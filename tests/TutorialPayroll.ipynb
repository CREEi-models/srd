{
 "cells": [
  {
   "cell_type": "code",
   "execution_count": 8,
   "metadata": {
    "ExecuteTime": {
     "end_time": "2020-04-16T00:17:39.110097Z",
     "start_time": "2020-04-16T00:17:39.107044Z"
    }
   },
   "outputs": [],
   "source": [
    "import sys\n",
    "sys.path.append('/users/loulou/cedia/srd/Model/')"
   ]
  },
  {
   "cell_type": "markdown",
   "metadata": {},
   "source": [
    "## Importation du module"
   ]
  },
  {
   "cell_type": "code",
   "execution_count": 9,
   "metadata": {
    "ExecuteTime": {
     "end_time": "2020-04-16T00:17:39.582570Z",
     "start_time": "2020-04-16T00:17:39.579155Z"
    }
   },
   "outputs": [],
   "source": [
    "import srd"
   ]
  },
  {
   "cell_type": "markdown",
   "metadata": {},
   "source": [
    "## Intialisation d'un ménage\n",
    "\n",
    "On doit d'abord initialiser un ménage. Ici nous supposerons un couple avec deux membres ayant l'âge de 45 ans et des revenus de travail de 50,000\\$ et 25,000\\$ respectivement. "
   ]
  },
  {
   "cell_type": "code",
   "execution_count": 10,
   "metadata": {
    "ExecuteTime": {
     "end_time": "2020-04-16T00:17:40.215164Z",
     "start_time": "2020-04-16T00:17:40.211689Z"
    }
   },
   "outputs": [],
   "source": [
    "jean = srd.Person(age=45,earn=50e3)\n",
    "pauline = srd.Person(age=45,earn=25e3)"
   ]
  },
  {
   "cell_type": "markdown",
   "metadata": {},
   "source": [
    "On les insère dans un ménage vivant au Québec"
   ]
  },
  {
   "cell_type": "code",
   "execution_count": 11,
   "metadata": {
    "ExecuteTime": {
     "end_time": "2020-04-16T00:17:41.131482Z",
     "start_time": "2020-04-16T00:17:41.128245Z"
    }
   },
   "outputs": [],
   "source": [
    "hh = srd.Hhold(jean,pauline,prov='qc')"
   ]
  },
  {
   "cell_type": "markdown",
   "metadata": {},
   "source": [
    "On peut voir le profil de chacun des membres du ménage en utilisant vars(): "
   ]
  },
  {
   "cell_type": "code",
   "execution_count": 12,
   "metadata": {
    "ExecuteTime": {
     "end_time": "2020-04-16T00:17:42.220508Z",
     "start_time": "2020-04-16T00:17:42.215030Z"
    }
   },
   "outputs": [
    {
     "data": {
      "text/plain": [
       "{'age': 45,\n",
       " 'male': True,\n",
       " 'inc_earn': 50000.0,\n",
       " 'inc_rpp': 0,\n",
       " 'inc_cpp': 0,\n",
       " 'inc_othtax': 0,\n",
       " 'inc_othntax': 0,\n",
       " 'inc_rrsp': 0,\n",
       " 'con_rrsp': 0,\n",
       " 'years_can': None,\n",
       " 'inc_self_earn': 0,\n",
       " 'disabled': False,\n",
       " 'cqppc': None,\n",
       " 'widow': False,\n",
       " 'asset': 0,\n",
       " 'dc_exp0_7': 0,\n",
       " 'dc_exp8_16': 0,\n",
       " 'oas_years_post': 0,\n",
       " 'inc_oas': 0.0,\n",
       " 'inc_gis': 0.0,\n",
       " 'allow_couple': 0,\n",
       " 'allow_surv': 0,\n",
       " 'fed_return': None,\n",
       " 'pro_return': None,\n",
       " 'payroll': None,\n",
       " 'net_inc': 50000.0,\n",
       " 'disp_inc': 50000.0}"
      ]
     },
     "execution_count": 12,
     "metadata": {},
     "output_type": "execute_result"
    }
   ],
   "source": [
    "vars(jean)"
   ]
  },
  {
   "cell_type": "markdown",
   "metadata": {},
   "source": [
    "## Calcul des contributions à l'assurance emploi\n",
    "\n",
    "On doit d'abord créer un rapport d'impôt pour une année en particulier. "
   ]
  },
  {
   "cell_type": "code",
   "execution_count": 13,
   "metadata": {
    "ExecuteTime": {
     "end_time": "2020-04-16T00:17:44.814705Z",
     "start_time": "2020-04-16T00:17:44.811343Z"
    }
   },
   "outputs": [],
   "source": [
    "from srd import ei\n",
    "ei_prog = ei.program(2020)"
   ]
  },
  {
   "cell_type": "markdown",
   "metadata": {},
   "source": [
    "On peut voir les différents paramètres du système fiscal en utilisant encore vars()"
   ]
  },
  {
   "cell_type": "code",
   "execution_count": 14,
   "metadata": {
    "ExecuteTime": {
     "end_time": "2020-04-16T00:17:45.710642Z",
     "start_time": "2020-04-16T00:17:45.706215Z"
    }
   },
   "outputs": [
    {
     "data": {
      "text/plain": [
       "{'rate_EI': 0.0158, 'rate_EI_qc': 0.012, 'max_earn_EI': 54200.0}"
      ]
     },
     "execution_count": 14,
     "metadata": {},
     "output_type": "execute_result"
    }
   ],
   "source": [
    "vars(ei_prog)"
   ]
  },
  {
   "cell_type": "code",
   "execution_count": 15,
   "metadata": {
    "ExecuteTime": {
     "end_time": "2020-04-16T00:17:46.264630Z",
     "start_time": "2020-04-16T00:17:46.260039Z"
    }
   },
   "outputs": [
    {
     "data": {
      "text/plain": [
       "600.0"
      ]
     },
     "execution_count": 15,
     "metadata": {},
     "output_type": "execute_result"
    }
   ],
   "source": [
    "ei_prog.contrib(jean,hh)"
   ]
  },
  {
   "cell_type": "code",
   "execution_count": 16,
   "metadata": {
    "ExecuteTime": {
     "end_time": "2020-04-16T00:17:46.660144Z",
     "start_time": "2020-04-16T00:17:46.655903Z"
    }
   },
   "outputs": [
    {
     "data": {
      "text/plain": [
       "772.16"
      ]
     },
     "execution_count": 16,
     "metadata": {},
     "output_type": "execute_result"
    }
   ],
   "source": [
    "50800*0.0152"
   ]
  },
  {
   "cell_type": "markdown",
   "metadata": {},
   "source": [
    "## RQAP"
   ]
  },
  {
   "cell_type": "code",
   "execution_count": 17,
   "metadata": {
    "ExecuteTime": {
     "end_time": "2020-04-16T00:17:59.435523Z",
     "start_time": "2020-04-16T00:17:59.432633Z"
    }
   },
   "outputs": [],
   "source": [
    "from srd import qpip"
   ]
  },
  {
   "cell_type": "code",
   "execution_count": 18,
   "metadata": {
    "ExecuteTime": {
     "end_time": "2020-04-16T00:17:59.924935Z",
     "start_time": "2020-04-16T00:17:59.921556Z"
    }
   },
   "outputs": [],
   "source": [
    "qpip_prog = qpip.program(2016)"
   ]
  },
  {
   "cell_type": "code",
   "execution_count": 19,
   "metadata": {
    "ExecuteTime": {
     "end_time": "2020-04-16T00:18:00.250179Z",
     "start_time": "2020-04-16T00:18:00.245490Z"
    }
   },
   "outputs": [
    {
     "data": {
      "text/plain": [
       "{'qualifying_threshold_QPIP': 2000.0,\n",
       " 'rate_QPIP_earn': 0.00548,\n",
       " 'rate_QPIP_self_earn': 0.00973,\n",
       " 'max_QPIP_earn': 71500.0}"
      ]
     },
     "execution_count": 19,
     "metadata": {},
     "output_type": "execute_result"
    }
   ],
   "source": [
    "vars(qpip_prog)"
   ]
  },
  {
   "cell_type": "code",
   "execution_count": 20,
   "metadata": {
    "ExecuteTime": {
     "end_time": "2020-04-16T00:18:00.702617Z",
     "start_time": "2020-04-16T00:18:00.698199Z"
    }
   },
   "outputs": [
    {
     "data": {
      "text/plain": [
       "391.82"
      ]
     },
     "execution_count": 20,
     "metadata": {},
     "output_type": "execute_result"
    }
   ],
   "source": [
    "jean.inc_earn = 100e3\n",
    "qpip_prog.contrib(jean,hh)"
   ]
  },
  {
   "cell_type": "markdown",
   "metadata": {},
   "source": [
    "## Classe Payroll"
   ]
  },
  {
   "cell_type": "code",
   "execution_count": 21,
   "metadata": {
    "ExecuteTime": {
     "end_time": "2020-04-16T00:18:03.379583Z",
     "start_time": "2020-04-16T00:18:03.248359Z"
    }
   },
   "outputs": [],
   "source": [
    "from srd import payroll\n",
    "payroll_prog = payroll(2016)"
   ]
  },
  {
   "cell_type": "code",
   "execution_count": 22,
   "metadata": {
    "ExecuteTime": {
     "end_time": "2020-04-16T00:18:04.006637Z",
     "start_time": "2020-04-16T00:18:04.002073Z"
    }
   },
   "outputs": [],
   "source": [
    "payroll_prog.compute(hh)"
   ]
  },
  {
   "cell_type": "code",
   "execution_count": 34,
   "metadata": {
    "ExecuteTime": {
     "end_time": "2020-04-16T00:22:47.695881Z",
     "start_time": "2020-04-16T00:22:47.691488Z"
    }
   },
   "outputs": [
    {
     "data": {
      "text/plain": [
       "dict_values([100000.0, 0, 2737.0499999999997, 0.0, 391.82, 772.16])"
      ]
     },
     "execution_count": 34,
     "metadata": {},
     "output_type": "execute_result"
    }
   ],
   "source": [
    "jean.payroll.values()"
   ]
  },
  {
   "cell_type": "markdown",
   "metadata": {},
   "source": [
    "## Expérience"
   ]
  },
  {
   "cell_type": "markdown",
   "metadata": {},
   "source": [
    "On peut faire des expériences assez complexe. La première serait de regader l'impôt provincial payé si on incrémente les revenus de travail"
   ]
  },
  {
   "cell_type": "code",
   "execution_count": null,
   "metadata": {
    "ExecuteTime": {
     "end_time": "2020-04-15T20:05:34.911167Z",
     "start_time": "2020-04-15T20:05:34.358963Z"
    }
   },
   "outputs": [],
   "source": [
    "earns = np.linspace(10e3,200e3,100)\n",
    "atrs = []\n",
    "for earn in earns:\n",
    "    jean.inc_earn = earn\n",
    "    qc_form.file(hh)\n",
    "    atrs.append(jean.prov_return['net_tax_liability']/jean.prov_return['gross_income'])\n",
    "from matplotlib import pyplot as plt\n",
    "plt.figure()\n",
    "plt.plot(earns,atrs)\n",
    "plt.xlabel('niveau de revenu de travail')\n",
    "plt.ylabel('taux moyen imposition effectif')\n",
    "plt.show()"
   ]
  },
  {
   "cell_type": "markdown",
   "metadata": {},
   "source": [
    "On peut aussi faire une expérience ou on change un paramètre du système d'imposition. Supposons qu'on change le montant de base en l'augmentant"
   ]
  },
  {
   "cell_type": "code",
   "execution_count": null,
   "metadata": {
    "ExecuteTime": {
     "end_time": "2020-04-15T20:06:35.049193Z",
     "start_time": "2020-04-15T20:06:34.864453Z"
    }
   },
   "outputs": [],
   "source": [
    "base = np.linspace(1.0,1.5,10)\n",
    "atrs = []\n",
    "bases = []\n",
    "jean.inc_earn = 50e3\n",
    "base_amount = qc_form.base\n",
    "for b in base:\n",
    "    qc_form.base = base_amount*b\n",
    "    bases.append(qc_form.base)\n",
    "    qc_form.file(hh)\n",
    "    atrs.append(jean.prov_return['net_tax_liability']/jean.prov_return['gross_income'])\n",
    "from matplotlib import pyplot as plt\n",
    "plt.figure()\n",
    "plt.plot(bases,atrs)\n",
    "plt.xlabel('montant de base')\n",
    "plt.ylabel('taux moyen imposition effectif')\n",
    "plt.show()"
   ]
  },
  {
   "cell_type": "code",
   "execution_count": null,
   "metadata": {},
   "outputs": [],
   "source": []
  }
 ],
 "metadata": {
  "kernelspec": {
   "display_name": "Python 3",
   "language": "python",
   "name": "python3"
  },
  "language_info": {
   "codemirror_mode": {
    "name": "ipython",
    "version": 3
   },
   "file_extension": ".py",
   "mimetype": "text/x-python",
   "name": "python",
   "nbconvert_exporter": "python",
   "pygments_lexer": "ipython3",
   "version": "3.6.10"
  },
  "latex_envs": {
   "LaTeX_envs_menu_present": true,
   "autoclose": false,
   "autocomplete": true,
   "bibliofile": "biblio.bib",
   "cite_by": "apalike",
   "current_citInitial": 1,
   "eqLabelWithNumbers": true,
   "eqNumInitial": 1,
   "hotkeys": {
    "equation": "Ctrl-E",
    "itemize": "Ctrl-I"
   },
   "labels_anchors": false,
   "latex_user_defs": false,
   "report_style_numbering": false,
   "user_envs_cfg": false
  },
  "varInspector": {
   "cols": {
    "lenName": 16,
    "lenType": 16,
    "lenVar": 40
   },
   "kernels_config": {
    "python": {
     "delete_cmd_postfix": "",
     "delete_cmd_prefix": "del ",
     "library": "var_list.py",
     "varRefreshCmd": "print(var_dic_list())"
    },
    "r": {
     "delete_cmd_postfix": ") ",
     "delete_cmd_prefix": "rm(",
     "library": "var_list.r",
     "varRefreshCmd": "cat(var_dic_list()) "
    }
   },
   "types_to_exclude": [
    "module",
    "function",
    "builtin_function_or_method",
    "instance",
    "_Feature"
   ],
   "window_display": false
  }
 },
 "nbformat": 4,
 "nbformat_minor": 4
}
