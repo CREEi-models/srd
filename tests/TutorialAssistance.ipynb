{
 "cells": [
  {
   "cell_type": "code",
   "execution_count": 1,
   "metadata": {
    "ExecuteTime": {
     "end_time": "2020-04-16T19:09:09.068153Z",
     "start_time": "2020-04-16T19:09:09.064961Z"
    }
   },
   "outputs": [],
   "source": [
    "import sys\n",
    "sys.path.append('/users/loulou/cedia/srd/Model/')"
   ]
  },
  {
   "cell_type": "markdown",
   "metadata": {},
   "source": [
    "## Importation du module"
   ]
  },
  {
   "cell_type": "code",
   "execution_count": 2,
   "metadata": {
    "ExecuteTime": {
     "end_time": "2020-04-16T19:09:10.102522Z",
     "start_time": "2020-04-16T19:09:09.740679Z"
    }
   },
   "outputs": [],
   "source": [
    "import srd"
   ]
  },
  {
   "cell_type": "markdown",
   "metadata": {},
   "source": [
    "## Intialisation d'un ménage\n",
    "\n",
    "On doit d'abord initialiser un ménage. Ici nous supposerons un couple avec deux membres ayant l'âge de 45 ans et aucun revenus. "
   ]
  },
  {
   "cell_type": "code",
   "execution_count": 3,
   "metadata": {
    "ExecuteTime": {
     "end_time": "2020-04-16T19:09:10.135038Z",
     "start_time": "2020-04-16T19:09:10.131426Z"
    }
   },
   "outputs": [],
   "source": [
    "jean = srd.Person(age=45,earn=0)\n",
    "pauline = srd.Person(age=45,earn=0)"
   ]
  },
  {
   "cell_type": "markdown",
   "metadata": {},
   "source": [
    "On les insère dans un ménage vivant au Québec"
   ]
  },
  {
   "cell_type": "code",
   "execution_count": 4,
   "metadata": {
    "ExecuteTime": {
     "end_time": "2020-04-16T19:09:10.469073Z",
     "start_time": "2020-04-16T19:09:10.465798Z"
    }
   },
   "outputs": [],
   "source": [
    "hh = srd.Hhold(jean,pauline,prov='qc')"
   ]
  },
  {
   "cell_type": "markdown",
   "metadata": {},
   "source": [
    "On peut voir le profil de chacun des membres du ménage en utilisant vars(): "
   ]
  },
  {
   "cell_type": "code",
   "execution_count": 5,
   "metadata": {
    "ExecuteTime": {
     "end_time": "2020-04-16T19:09:11.586551Z",
     "start_time": "2020-04-16T19:09:11.573678Z"
    }
   },
   "outputs": [
    {
     "data": {
      "text/plain": [
       "{'age': 45,\n",
       " 'male': True,\n",
       " 'inc_earn': 0,\n",
       " 'inc_rpp': 0,\n",
       " 'inc_cpp': 0,\n",
       " 'inc_othtax': 0,\n",
       " 'inc_othntax': 0,\n",
       " 'inc_rrsp': 0,\n",
       " 'con_rrsp': 0,\n",
       " 'years_can': None,\n",
       " 'inc_self_earn': 0,\n",
       " 'disabled': False,\n",
       " 'cqppc': None,\n",
       " 'widow': False,\n",
       " 'asset': 0,\n",
       " 'dc_exp0_7': 0,\n",
       " 'dc_exp8_16': 0,\n",
       " 'oas_years_post': 0,\n",
       " 'inc_oas': 0.0,\n",
       " 'inc_gis': 0.0,\n",
       " 'inc_social_ass': 0.0,\n",
       " 'allow_couple': 0,\n",
       " 'allow_surv': 0,\n",
       " 'fed_return': None,\n",
       " 'pro_return': None,\n",
       " 'payroll': None,\n",
       " 'net_inc': 0.0,\n",
       " 'disp_inc': 0.0}"
      ]
     },
     "execution_count": 5,
     "metadata": {},
     "output_type": "execute_result"
    }
   ],
   "source": [
    "vars(jean)"
   ]
  },
  {
   "cell_type": "markdown",
   "metadata": {},
   "source": [
    "## Calcul des prestations d'aide sociale\n"
   ]
  },
  {
   "cell_type": "code",
   "execution_count": 6,
   "metadata": {
    "ExecuteTime": {
     "end_time": "2020-04-16T19:09:12.991174Z",
     "start_time": "2020-04-16T19:09:12.852819Z"
    }
   },
   "outputs": [],
   "source": [
    "from srd import payroll\n",
    "payroll_prog = payroll(2016)\n",
    "payroll_prog.compute(hh)"
   ]
  },
  {
   "cell_type": "code",
   "execution_count": 7,
   "metadata": {
    "ExecuteTime": {
     "end_time": "2020-04-16T19:09:14.430281Z",
     "start_time": "2020-04-16T19:09:14.425966Z"
    }
   },
   "outputs": [],
   "source": [
    "from srd import federal\n",
    "fed_form = federal.form(2016)\n",
    "fed_form.file(hh)"
   ]
  },
  {
   "cell_type": "code",
   "execution_count": 8,
   "metadata": {
    "ExecuteTime": {
     "end_time": "2020-04-16T19:09:15.510941Z",
     "start_time": "2020-04-16T19:09:15.507979Z"
    }
   },
   "outputs": [],
   "source": [
    "from srd import assistance"
   ]
  },
  {
   "cell_type": "code",
   "execution_count": 9,
   "metadata": {
    "ExecuteTime": {
     "end_time": "2020-04-16T19:09:15.810760Z",
     "start_time": "2020-04-16T19:09:15.807070Z"
    }
   },
   "outputs": [],
   "source": [
    "ass_prog = assistance.program(2016)"
   ]
  },
  {
   "cell_type": "code",
   "execution_count": 10,
   "metadata": {
    "ExecuteTime": {
     "end_time": "2020-04-16T19:09:16.436683Z",
     "start_time": "2020-04-16T19:09:16.432180Z"
    }
   },
   "outputs": [
    {
     "data": {
      "text/plain": [
       "11580.0"
      ]
     },
     "execution_count": 10,
     "metadata": {},
     "output_type": "execute_result"
    }
   ],
   "source": [
    "ass_prog.apply(hh)"
   ]
  },
  {
   "cell_type": "code",
   "execution_count": 11,
   "metadata": {
    "ExecuteTime": {
     "end_time": "2020-04-16T19:09:17.256897Z",
     "start_time": "2020-04-16T19:09:17.252641Z"
    }
   },
   "outputs": [
    {
     "data": {
      "text/plain": [
       "9976"
      ]
     },
     "execution_count": 11,
     "metadata": {},
     "output_type": "execute_result"
    }
   ],
   "source": [
    "2500 + 7476"
   ]
  },
  {
   "cell_type": "markdown",
   "metadata": {},
   "source": [
    "## Expérience"
   ]
  },
  {
   "cell_type": "markdown",
   "metadata": {},
   "source": [
    "On peut faire des expériences assez complexe. La première serait de regader l'impôt provincial payé si on incrémente les revenus de travail"
   ]
  },
  {
   "cell_type": "code",
   "execution_count": 12,
   "metadata": {
    "ExecuteTime": {
     "end_time": "2020-04-16T19:09:20.214974Z",
     "start_time": "2020-04-16T19:09:19.682990Z"
    }
   },
   "outputs": [
    {
     "data": {
      "image/png": "[encoded data removed]",
      "text/plain": [
       "<Figure size 432x288 with 1 Axes>"
      ]
     },
     "metadata": {
      "needs_background": "light"
     },
     "output_type": "display_data"
    }
   ],
   "source": [
    "earns = np.linspace(0.0,20e3,100)\n",
    "aide = []\n",
    "for earn in earns:\n",
    "    jean.inc_earn = earn\n",
    "    aide.append(ass_prog.apply(hh))\n",
    "from matplotlib import pyplot as plt\n",
    "plt.figure()\n",
    "plt.plot(earns,aide)\n",
    "plt.xlabel('niveau de revenu de travail')\n",
    "plt.ylabel('aide sociale')\n",
    "plt.show()"
   ]
  },
  {
   "cell_type": "code",
   "execution_count": 13,
   "metadata": {
    "ExecuteTime": {
     "end_time": "2020-04-16T19:09:25.487815Z",
     "start_time": "2020-04-16T19:09:25.484721Z"
    }
   },
   "outputs": [],
   "source": [
    "from srd import calculators"
   ]
  },
  {
   "cell_type": "code",
   "execution_count": 14,
   "metadata": {
    "ExecuteTime": {
     "end_time": "2020-04-16T19:09:26.249924Z",
     "start_time": "2020-04-16T19:09:26.123282Z"
    }
   },
   "outputs": [],
   "source": [
    "tax = srd.tax(2016)"
   ]
  },
  {
   "cell_type": "code",
   "execution_count": 15,
   "metadata": {
    "ExecuteTime": {
     "end_time": "2020-04-16T19:09:26.882607Z",
     "start_time": "2020-04-16T19:09:26.879387Z"
    }
   },
   "outputs": [],
   "source": [
    "jean.inc_earn = 0.0\n",
    "pauline.inc_earn = 0.0"
   ]
  },
  {
   "cell_type": "code",
   "execution_count": 16,
   "metadata": {
    "ExecuteTime": {
     "end_time": "2020-04-16T19:09:27.855113Z",
     "start_time": "2020-04-16T19:09:27.850153Z"
    }
   },
   "outputs": [],
   "source": [
    "tax.compute(hh)"
   ]
  },
  {
   "cell_type": "code",
   "execution_count": 17,
   "metadata": {
    "ExecuteTime": {
     "end_time": "2020-04-16T19:09:28.919319Z",
     "start_time": "2020-04-16T19:09:28.916176Z"
    }
   },
   "outputs": [],
   "source": [
    "tax.dispinc(hh)"
   ]
  },
  {
   "cell_type": "code",
   "execution_count": 18,
   "metadata": {
    "ExecuteTime": {
     "end_time": "2020-04-16T19:09:32.231148Z",
     "start_time": "2020-04-16T19:09:32.226628Z"
    }
   },
   "outputs": [
    {
     "data": {
      "text/plain": [
       "5790.0"
      ]
     },
     "execution_count": 18,
     "metadata": {},
     "output_type": "execute_result"
    }
   ],
   "source": [
    "jean.disp_inc"
   ]
  },
  {
   "cell_type": "code",
   "execution_count": 19,
   "metadata": {
    "ExecuteTime": {
     "end_time": "2020-04-16T19:09:33.118119Z",
     "start_time": "2020-04-16T19:09:33.113596Z"
    }
   },
   "outputs": [
    {
     "data": {
      "text/plain": [
       "5790.0"
      ]
     },
     "execution_count": 19,
     "metadata": {},
     "output_type": "execute_result"
    }
   ],
   "source": [
    "pauline.disp_inc"
   ]
  },
  {
   "cell_type": "code",
   "execution_count": null,
   "metadata": {},
   "outputs": [],
   "source": []
  }
 ],
 "metadata": {
  "kernelspec": {
   "display_name": "Python 3",
   "language": "python",
   "name": "python3"
  },
  "language_info": {
   "codemirror_mode": {
    "name": "ipython",
    "version": 3
   },
   "file_extension": ".py",
   "mimetype": "text/x-python",
   "name": "python",
   "nbconvert_exporter": "python",
   "pygments_lexer": "ipython3",
   "version": "3.6.10"
  },
  "latex_envs": {
   "LaTeX_envs_menu_present": true,
   "autoclose": false,
   "autocomplete": true,
   "bibliofile": "biblio.bib",
   "cite_by": "apalike",
   "current_citInitial": 1,
   "eqLabelWithNumbers": true,
   "eqNumInitial": 1,
   "hotkeys": {
    "equation": "Ctrl-E",
    "itemize": "Ctrl-I"
   },
   "labels_anchors": false,
   "latex_user_defs": false,
   "report_style_numbering": false,
   "user_envs_cfg": false
  },
  "varInspector": {
   "cols": {
    "lenName": 16,
    "lenType": 16,
    "lenVar": 40
   },
   "kernels_config": {
    "python": {
     "delete_cmd_postfix": "",
     "delete_cmd_prefix": "del ",
     "library": "var_list.py",
     "varRefreshCmd": "print(var_dic_list())"
    },
    "r": {
     "delete_cmd_postfix": ") ",
     "delete_cmd_prefix": "rm(",
     "library": "var_list.r",
     "varRefreshCmd": "cat(var_dic_list()) "
    }
   },
   "types_to_exclude": [
    "module",
    "function",
    "builtin_function_or_method",
    "instance",
    "_Feature"
   ],
   "window_display": false
  }
 },
 "nbformat": 4,
 "nbformat_minor": 4
}
