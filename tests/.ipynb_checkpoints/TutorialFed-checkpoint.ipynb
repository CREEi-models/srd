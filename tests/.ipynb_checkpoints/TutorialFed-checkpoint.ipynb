{
 "cells": [
  {
   "cell_type": "code",
   "execution_count": 1,
   "metadata": {
    "ExecuteTime": {
     "end_time": "2020-04-10T16:06:41.325797Z",
     "start_time": "2020-04-10T16:06:41.322596Z"
    }
   },
   "outputs": [],
   "source": [
    "import sys\n",
    "sys.path.append('/users/loulou/srd/')"
   ]
  },
  {
   "cell_type": "markdown",
   "metadata": {},
   "source": [
    "## Importation du module"
   ]
  },
  {
   "cell_type": "code",
   "execution_count": 2,
   "metadata": {
    "ExecuteTime": {
     "end_time": "2020-04-10T16:06:41.821585Z",
     "start_time": "2020-04-10T16:06:41.813354Z"
    }
   },
   "outputs": [],
   "source": [
    "import srd"
   ]
  },
  {
   "cell_type": "markdown",
   "metadata": {},
   "source": [
    "## Intialisation d'un ménage\n",
    "\n",
    "On doit d'abord initialiser un ménage. Ici nous supposerons un couple avec deux membres ayant l'âge de 45 ans et des revenus de travail de 50,000\\$ et 25,000\\$ respectivement. "
   ]
  },
  {
   "cell_type": "code",
   "execution_count": 3,
   "metadata": {
    "ExecuteTime": {
     "end_time": "2020-04-10T16:06:42.322856Z",
     "start_time": "2020-04-10T16:06:42.319386Z"
    }
   },
   "outputs": [],
   "source": [
    "jean = srd.Person(age=45,earn=50e3)\n",
    "pauline = srd.Person(age=45,earn=25e3)"
   ]
  },
  {
   "cell_type": "markdown",
   "metadata": {},
   "source": [
    "On les insère dans un ménage vivant au Québec"
   ]
  },
  {
   "cell_type": "code",
   "execution_count": 4,
   "metadata": {
    "ExecuteTime": {
     "end_time": "2020-04-10T16:06:42.788281Z",
     "start_time": "2020-04-10T16:06:42.785199Z"
    }
   },
   "outputs": [],
   "source": [
    "hh = srd.Hhold(jean,pauline,prov='qc')"
   ]
  },
  {
   "cell_type": "markdown",
   "metadata": {},
   "source": [
    "On peut voir le profil de chacun des membres du ménage en utilisant vars(): "
   ]
  },
  {
   "cell_type": "code",
   "execution_count": 5,
   "metadata": {
    "ExecuteTime": {
     "end_time": "2020-04-10T16:06:43.066278Z",
     "start_time": "2020-04-10T16:06:43.053827Z"
    }
   },
   "outputs": [
    {
     "data": {
      "text/plain": [
       "{'age': 45,\n",
       " 'inc_earn': 50000.0,\n",
       " 'inc_rpp': 0,\n",
       " 'inc_cpp': 0,\n",
       " 'inc_othtax': 0,\n",
       " 'inc_othntax': 0,\n",
       " 'inc_rrsp': 0,\n",
       " 'con_rrsp': 0,\n",
       " 'years_can': None,\n",
       " 'inc_self_earn': 0,\n",
       " 'disabled': False,\n",
       " 'cqppc': None,\n",
       " 'widow': False,\n",
       " 'asset': 0,\n",
       " 'dc_exp0_7': 0,\n",
       " 'dc_exp8_16': 0,\n",
       " 'oas_years_post': 0,\n",
       " 'inc_oas': 0.0,\n",
       " 'inc_gis': 0.0,\n",
       " 'allow_couple': 0,\n",
       " 'allow_surv': 0,\n",
       " 'inc_work': 50000.0,\n",
       " 'inc_non_work': 0,\n",
       " 'net_inc': 50000.0}"
      ]
     },
     "execution_count": 5,
     "metadata": {},
     "output_type": "execute_result"
    }
   ],
   "source": [
    "vars(jean)"
   ]
  },
  {
   "cell_type": "markdown",
   "metadata": {},
   "source": [
    "## Calcul de l'impôt fédéral\n",
    "\n",
    "On doit d'abord créer un rapport d'impôt pour une année en particulier. "
   ]
  },
  {
   "cell_type": "code",
   "execution_count": 21,
   "metadata": {
    "ExecuteTime": {
     "end_time": "2020-04-10T16:07:49.535023Z",
     "start_time": "2020-04-10T16:07:49.531109Z"
    }
   },
   "outputs": [],
   "source": [
    "from srd import federal\n",
    "fed_form = federal.form(2020)"
   ]
  },
  {
   "cell_type": "markdown",
   "metadata": {},
   "source": [
    "On peut voir les différents paramètres du système fiscal en utilisant encore vars()"
   ]
  },
  {
   "cell_type": "code",
   "execution_count": 22,
   "metadata": {
    "ExecuteTime": {
     "end_time": "2020-04-10T16:07:50.459175Z",
     "start_time": "2020-04-10T16:07:50.452577Z"
    }
   },
   "outputs": [
    {
     "data": {
      "text/plain": [
       "{'basic_amount': 11474.0,\n",
       " 'age_cred_amount': 7125.0,\n",
       " 'min_age_cred': 65,\n",
       " 'age_cred_exemption': 35927.0,\n",
       " 'age_cred_claw_rate': 0.15,\n",
       " 'pension_cred_amount': 2000.0,\n",
       " 'disability_cred_amount': 8001.0,\n",
       " 'rate_non_ref_tax_cred': 0.15,\n",
       " 'rate_abatment_qc': 0.165,\n",
       " 'nrtc_empl': 1161.0,\n",
       " 'nrtc_dep_base': 11474.0,\n",
       " 'rtc_gst_max': 276.0,\n",
       " 'rtc_gst_max_partner': 276.0,\n",
       " 'rtc_gst_max_child': 145.0,\n",
       " 'rtc_gst_clawrate': 0.05,\n",
       " 'rtc_gst_red': 35926.0,\n",
       " 'rtc_gst_stop': 41446.0,\n",
       " 'rtc_gst_ind_bonusstart': 8948.0,\n",
       " 'rtc_gst_ind_bonus': 145.0,\n",
       " 'rtc_gst_ind_bonusrate': 0.02,\n",
       " 'chcdeduc_max_minus7': 8000.0,\n",
       " 'chcdeduc_max_minus16': 5000.0,\n",
       " 'chcdeduc_winc_rate': 0.666,\n",
       " 'cctb_base': 1490.0,\n",
       " 'cctb_supp3rd': 104.0,\n",
       " 'cctb_redstart': 45282.0,\n",
       " 'cctb_redrate_1ch': 0.02,\n",
       " 'cctb_redrate_2chplus': 0.04,\n",
       " 'ncbs_base_1ch': 2308.0,\n",
       " 'ncbs_base_2nd': 2042.0,\n",
       " 'ncbs_base_3rdplus': 1943.0,\n",
       " 'ncbs_redrate_1ch': 0.122,\n",
       " 'ncbs_redrate_2ch': 0.23,\n",
       " 'ncbs_redrate_3chplus': 0.333,\n",
       " 'ncbs_redstart': 26359.0,\n",
       " 'uccb_amount': 960.0,\n",
       " 'cctb_alb_minus7': 1375.0,\n",
       " 'cctb_alb_7to11': 1468.0,\n",
       " 'cctb_alb_12to15': 1643.0,\n",
       " 'cctb_alb_16and17': 1739.0,\n",
       " 'uccb_6_17': 360.0,\n",
       " 'ccb_base_step_1': 30000.0,\n",
       " 'ccb_rate_step1_1ch': 0.07,\n",
       " 'ccb_rate_step1_2ch': 0.135,\n",
       " 'ccb_rate_step1_3ch': 0.19,\n",
       " 'ccb_rate_step1_4ch_plus': 0.23,\n",
       " 'ccb_base_step_2': 65000.0,\n",
       " 'ccb_rate_step2_1ch': 0.032,\n",
       " 'ccb_rate_step2_2ch': 0.057,\n",
       " 'ccb_rate_step2_3ch': 0.08,\n",
       " 'ccb_rate_step2_4ch_plus': 0.095,\n",
       " 'ccb_minus_6': 6400.0,\n",
       " 'ccb_6_17': 5400.0,\n",
       " 'ccb_disab': 2730.0,\n",
       " 'ccb_thresh_step1': 35000.0,\n",
       " 'l_brackets': [0.0, 45258.0, 90563.0, 140388.0, 200000.0],\n",
       " 'l_rates': [0.15, 0.205, 0.26, 0.29, 0.33],\n",
       " 'l_constant': [0.0, 6792.0, 16075.0, 29029.0, 46317.0]}"
      ]
     },
     "execution_count": 22,
     "metadata": {},
     "output_type": "execute_result"
    }
   ],
   "source": [
    "vars(fed_form)"
   ]
  },
  {
   "cell_type": "markdown",
   "metadata": {},
   "source": [
    "On remplit le rapport d'impôt à l'aide de la fonction file(). "
   ]
  },
  {
   "cell_type": "code",
   "execution_count": 23,
   "metadata": {
    "ExecuteTime": {
     "end_time": "2020-04-10T16:07:51.452832Z",
     "start_time": "2020-04-10T16:07:51.449763Z"
    }
   },
   "outputs": [],
   "source": [
    "fed_form.file(hh)"
   ]
  },
  {
   "cell_type": "markdown",
   "metadata": {},
   "source": [
    "On peut visualiser un rapport d'impôt sommaire qui est rattaché à chaque personne"
   ]
  },
  {
   "cell_type": "code",
   "execution_count": 24,
   "metadata": {
    "ExecuteTime": {
     "end_time": "2020-04-10T16:07:52.152236Z",
     "start_time": "2020-04-10T16:07:52.147452Z"
    }
   },
   "outputs": [
    {
     "data": {
      "text/plain": [
       "{'gross_income': 50000.0,\n",
       " 'deductions': 0.0,\n",
       " 'net_income': 50000.0,\n",
       " 'taxable_income': 50000.0,\n",
       " 'gross_tax_liability': 7764.11,\n",
       " 'non_refund_credits': 1721.1,\n",
       " 'refund_credits': 997.0966500000001,\n",
       " 'net_tax_liability': 5045.91335}"
      ]
     },
     "execution_count": 24,
     "metadata": {},
     "output_type": "execute_result"
    }
   ],
   "source": [
    "jean.fed_return"
   ]
  },
  {
   "cell_type": "code",
   "execution_count": 25,
   "metadata": {
    "ExecuteTime": {
     "end_time": "2020-04-10T16:07:52.829752Z",
     "start_time": "2020-04-10T16:07:52.825330Z"
    }
   },
   "outputs": [
    {
     "data": {
      "text/plain": [
       "{'gross_income': 25000.0,\n",
       " 'deductions': 0.0,\n",
       " 'net_income': 25000.0,\n",
       " 'taxable_income': 25000.0,\n",
       " 'gross_tax_liability': 3750.0,\n",
       " 'non_refund_credits': 1721.1,\n",
       " 'refund_credits': 334.7685,\n",
       " 'net_tax_liability': 1694.1315}"
      ]
     },
     "execution_count": 25,
     "metadata": {},
     "output_type": "execute_result"
    }
   ],
   "source": [
    "pauline.fed_return"
   ]
  },
  {
   "cell_type": "markdown",
   "metadata": {},
   "source": [
    "## Expérience"
   ]
  },
  {
   "cell_type": "markdown",
   "metadata": {},
   "source": [
    "On peut faire des expériences assez complexe. La première serait de regader l'impôt fédéral payé si on incrémente les revenus de travail"
   ]
  },
  {
   "cell_type": "code",
   "execution_count": 26,
   "metadata": {
    "ExecuteTime": {
     "end_time": "2020-04-10T16:07:53.813216Z",
     "start_time": "2020-04-10T16:07:53.562899Z"
    }
   },
   "outputs": [
    {
     "data": {
      "image/png": "[encoded data removed]",
      "text/plain": [
       "<Figure size 432x288 with 1 Axes>"
      ]
     },
     "metadata": {
      "needs_background": "light"
     },
     "output_type": "display_data"
    }
   ],
   "source": [
    "earns = np.linspace(10e3,200e3,100)\n",
    "atrs = []\n",
    "for earn in earns:\n",
    "    jean.inc_earn = earn\n",
    "    fed_form.file(hh)\n",
    "    atrs.append(jean.fed_return['net_tax_liability']/jean.fed_return['gross_income'])\n",
    "from matplotlib import pyplot as plt\n",
    "plt.figure()\n",
    "plt.plot(earns,atrs)\n",
    "plt.xlabel('niveau de revenu de travail')\n",
    "plt.ylabel('taux moyen imposition effectif')\n",
    "plt.show()"
   ]
  },
  {
   "cell_type": "markdown",
   "metadata": {},
   "source": [
    "On peut aussi faire une expérience ou on change un paramètre du système d'imposition. Supposons qu'on change le montant de base en l'augmentant"
   ]
  },
  {
   "cell_type": "code",
   "execution_count": 27,
   "metadata": {
    "ExecuteTime": {
     "end_time": "2020-04-10T16:07:54.784773Z",
     "start_time": "2020-04-10T16:07:54.553742Z"
    }
   },
   "outputs": [
    {
     "data": {
      "image/png": "[encoded data removed]",
      "text/plain": [
       "<Figure size 432x288 with 1 Axes>"
      ]
     },
     "metadata": {
      "needs_background": "light"
     },
     "output_type": "display_data"
    }
   ],
   "source": [
    "base = np.linspace(1.0,1.5,10)\n",
    "atrs = []\n",
    "bases = []\n",
    "jean.inc_earn = 50e3\n",
    "base_amount = fed_form.basic_amount\n",
    "for b in base:\n",
    "    fed_form.basic_amount = base_amount*b\n",
    "    bases.append(fed_form.basic_amount)\n",
    "    fed_form.file(hh)\n",
    "    atrs.append(jean.fed_return['net_tax_liability']/jean.fed_return['gross_income'])\n",
    "from matplotlib import pyplot as plt\n",
    "plt.figure()\n",
    "plt.plot(bases,atrs)\n",
    "plt.xlabel('montant de base')\n",
    "plt.ylabel('taux moyen imposition effectif')\n",
    "plt.show()"
   ]
  },
  {
   "cell_type": "code",
   "execution_count": null,
   "metadata": {},
   "outputs": [],
   "source": []
  }
 ],
 "metadata": {
  "kernelspec": {
   "display_name": "Python 3",
   "language": "python",
   "name": "python3"
  },
  "language_info": {
   "codemirror_mode": {
    "name": "ipython",
    "version": 3
   },
   "file_extension": ".py",
   "mimetype": "text/x-python",
   "name": "python",
   "nbconvert_exporter": "python",
   "pygments_lexer": "ipython3",
   "version": "3.6.10"
  },
  "latex_envs": {
   "LaTeX_envs_menu_present": true,
   "autoclose": false,
   "autocomplete": true,
   "bibliofile": "biblio.bib",
   "cite_by": "apalike",
   "current_citInitial": 1,
   "eqLabelWithNumbers": true,
   "eqNumInitial": 1,
   "hotkeys": {
    "equation": "Ctrl-E",
    "itemize": "Ctrl-I"
   },
   "labels_anchors": false,
   "latex_user_defs": false,
   "report_style_numbering": false,
   "user_envs_cfg": false
  },
  "varInspector": {
   "cols": {
    "lenName": 16,
    "lenType": 16,
    "lenVar": 40
   },
   "kernels_config": {
    "python": {
     "delete_cmd_postfix": "",
     "delete_cmd_prefix": "del ",
     "library": "var_list.py",
     "varRefreshCmd": "print(var_dic_list())"
    },
    "r": {
     "delete_cmd_postfix": ") ",
     "delete_cmd_prefix": "rm(",
     "library": "var_list.r",
     "varRefreshCmd": "cat(var_dic_list()) "
    }
   },
   "types_to_exclude": [
    "module",
    "function",
    "builtin_function_or_method",
    "instance",
    "_Feature"
   ],
   "window_display": false
  }
 },
 "nbformat": 4,
 "nbformat_minor": 4
}
