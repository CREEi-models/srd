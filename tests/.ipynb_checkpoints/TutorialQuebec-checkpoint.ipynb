{
 "cells": [
  {
   "cell_type": "code",
   "execution_count": 1,
   "metadata": {
    "ExecuteTime": {
     "end_time": "2020-04-15T20:03:21.331817Z",
     "start_time": "2020-04-15T20:03:21.328766Z"
    }
   },
   "outputs": [],
   "source": [
    "import sys\n",
    "sys.path.append('/users/loulou/cedia/srd/Model/')"
   ]
  },
  {
   "cell_type": "markdown",
   "metadata": {},
   "source": [
    "## Importation du module"
   ]
  },
  {
   "cell_type": "code",
   "execution_count": 2,
   "metadata": {
    "ExecuteTime": {
     "end_time": "2020-04-15T20:03:22.178942Z",
     "start_time": "2020-04-15T20:03:22.168567Z"
    }
   },
   "outputs": [],
   "source": [
    "import srd"
   ]
  },
  {
   "cell_type": "markdown",
   "metadata": {},
   "source": [
    "## Intialisation d'un ménage\n",
    "\n",
    "On doit d'abord initialiser un ménage. Ici nous supposerons un couple avec deux membres ayant l'âge de 45 ans et des revenus de travail de 50,000\\$ et 25,000\\$ respectivement. "
   ]
  },
  {
   "cell_type": "code",
   "execution_count": 3,
   "metadata": {
    "ExecuteTime": {
     "end_time": "2020-04-15T20:03:23.081717Z",
     "start_time": "2020-04-15T20:03:23.078152Z"
    }
   },
   "outputs": [],
   "source": [
    "jean = srd.Person(age=45,earn=50e3)\n",
    "pauline = srd.Person(age=45,earn=25e3)"
   ]
  },
  {
   "cell_type": "markdown",
   "metadata": {},
   "source": [
    "On les insère dans un ménage vivant au Québec"
   ]
  },
  {
   "cell_type": "code",
   "execution_count": 4,
   "metadata": {
    "ExecuteTime": {
     "end_time": "2020-04-15T20:03:23.919639Z",
     "start_time": "2020-04-15T20:03:23.916280Z"
    }
   },
   "outputs": [],
   "source": [
    "hh = srd.Hhold(jean,pauline,prov='qc')"
   ]
  },
  {
   "cell_type": "markdown",
   "metadata": {},
   "source": [
    "On peut voir le profil de chacun des membres du ménage en utilisant vars(): "
   ]
  },
  {
   "cell_type": "code",
   "execution_count": 5,
   "metadata": {
    "ExecuteTime": {
     "end_time": "2020-04-15T20:03:24.582132Z",
     "start_time": "2020-04-15T20:03:24.569200Z"
    }
   },
   "outputs": [
    {
     "data": {
      "text/plain": [
       "{'age': 45,\n",
       " 'male': True,\n",
       " 'inc_earn': 50000.0,\n",
       " 'inc_rpp': 0,\n",
       " 'inc_cpp': 0,\n",
       " 'inc_othtax': 0,\n",
       " 'inc_othntax': 0,\n",
       " 'inc_rrsp': 0,\n",
       " 'con_rrsp': 0,\n",
       " 'years_can': None,\n",
       " 'inc_self_earn': 0,\n",
       " 'disabled': False,\n",
       " 'cqppc': None,\n",
       " 'widow': False,\n",
       " 'asset': 0,\n",
       " 'dc_exp0_7': 0,\n",
       " 'dc_exp8_16': 0,\n",
       " 'oas_years_post': 0,\n",
       " 'inc_oas': 0.0,\n",
       " 'inc_gis': 0.0,\n",
       " 'allow_couple': 0,\n",
       " 'allow_surv': 0,\n",
       " 'fed_return': None,\n",
       " 'pro_return': None,\n",
       " 'payroll': None,\n",
       " 'net_inc': 50000.0,\n",
       " 'disp_inc': 50000.0}"
      ]
     },
     "execution_count": 5,
     "metadata": {},
     "output_type": "execute_result"
    }
   ],
   "source": [
    "vars(jean)"
   ]
  },
  {
   "cell_type": "markdown",
   "metadata": {},
   "source": [
    "## Calcul de l'impôt du Québec\n",
    "\n",
    "On doit d'abord créer un rapport d'impôt pour une année en particulier. "
   ]
  },
  {
   "cell_type": "code",
   "execution_count": 6,
   "metadata": {
    "ExecuteTime": {
     "end_time": "2020-04-15T20:03:25.512294Z",
     "start_time": "2020-04-15T20:03:25.503829Z"
    }
   },
   "outputs": [],
   "source": [
    "from srd import quebec\n",
    "qc_form = quebec.form(2016)"
   ]
  },
  {
   "cell_type": "markdown",
   "metadata": {},
   "source": [
    "On peut voir les différents paramètres du système fiscal en utilisant encore vars()"
   ]
  },
  {
   "cell_type": "code",
   "execution_count": 7,
   "metadata": {
    "ExecuteTime": {
     "end_time": "2020-04-15T20:03:27.067963Z",
     "start_time": "2020-04-15T20:03:27.057962Z"
    }
   },
   "outputs": [
    {
     "data": {
      "text/plain": [
       "{'base': 11550.0,\n",
       " 'nrtc_age': 65,\n",
       " 'nrtc_age_max': 2485.0,\n",
       " 'nrtc_age_base': 33505.0,\n",
       " 'nrtc_rate': 0.2,\n",
       " 'nrtc_age_rate': 0.15,\n",
       " 'nrtc_pension_max': 2210.0,\n",
       " 'nrtc_single': 1355.0,\n",
       " 'nrtc_disabled': 2625.0,\n",
       " 'nrtc_dep_base': 3065.0,\n",
       " 'nrtc_dep_inc_redrate': 0.8,\n",
       " 'witb_start_single': 2400.0,\n",
       " 'witb_start_couple': 3600.0,\n",
       " 'witb_rate_single': 0.205,\n",
       " 'witb_rate_couple': 0.205,\n",
       " 'witb_stop_single': 10506.0,\n",
       " 'witb_stop_couple': 16248.0,\n",
       " 'witb_red_single': 11816.0,\n",
       " 'witb_red_couple': 18153.0,\n",
       " 'witb_red_1adch': 11854.0,\n",
       " 'witb_red_2adch': 18231.0,\n",
       " 'witb_rate_1adch': 0.12,\n",
       " 'witb_rate_2adch': 0.08,\n",
       " 'witb_redrate_1ad': 0.2,\n",
       " 'witb_redrate_2ad': 0.2,\n",
       " 'awitb_start_single': 1200.0,\n",
       " 'awitb_start_couple': 1200.0,\n",
       " 'awitb_rate_single': 0.4,\n",
       " 'awitb_rate_couple': 0.2,\n",
       " 'awitb_stop_single': 2497.0,\n",
       " 'awitb_stop_couple': 2497.0,\n",
       " 'awitb_red_single': 20332.0,\n",
       " 'awitb_red_couple': 31434.0,\n",
       " 'awitb_red_1adch': 16974.0,\n",
       " 'awitb_red_2adch': 23718.0,\n",
       " 'awitb_redrate_single': 0.2,\n",
       " 'awitb_redrate_couple': 0.2,\n",
       " 'awp_start_single': 1200.0,\n",
       " 'awp_start_couple': 1200.0,\n",
       " 'awp_rate_single': 0.11,\n",
       " 'awp_rate_couple': 0.11,\n",
       " 'awp_stop_single': 13366.0,\n",
       " 'awp_stop_couple': 19444.0,\n",
       " 'awp_red_single': 13366.0,\n",
       " 'awp_red_couple': 19444.0,\n",
       " 'awp_redrate_single': 0.1,\n",
       " 'awp_redrate_couple': 0.1,\n",
       " 'cap_max_1ch': 2392.0,\n",
       " 'cap_max_2ndch': 1195.0,\n",
       " 'cap_max_3rdch': 1195.0,\n",
       " 'cap_max_4thchplus': 1793.0,\n",
       " 'cap_monosupp': 839.0,\n",
       " 'cap_min_1ch': 671.0,\n",
       " 'cap_min_2ndchplus': 620.0,\n",
       " 'cap_min_mono': 335.0,\n",
       " 'cap_red_single': 34656.0,\n",
       " 'cap_red_couple': 47665.0,\n",
       " 'cap_redrate': 0.04,\n",
       " 'cap_handicaped': 187.0,\n",
       " 'chcare_max_minus7': 9000.0,\n",
       " 'chcare_max_minus16': 5000.0,\n",
       " 'expworker_start': 6000.0,\n",
       " 'expworker_amount': 4000.0,\n",
       " 'expworker_rate': 0.1504,\n",
       " 'expworker_amount_64': 5000.0,\n",
       " 'hc_thresh': 134095.0,\n",
       " 'hc_rate': 0.04,\n",
       " 'hc_max': 1000.0,\n",
       " 'hsf_base1': 14440.0,\n",
       " 'hsf_base2': 50200.0,\n",
       " 'hsf_rate1': 0.01,\n",
       " 'hsf_rate2': 0.01,\n",
       " 'hsf_max1': 150.0,\n",
       " 'hsf_max2': 1000.0,\n",
       " 'ramq_medic_base_inc_single': 15570.0,\n",
       " 'ramq_medic_base_inc_couple': 25230.0,\n",
       " 'ramq_medic_base_inc_1ad1depch': 9660.0,\n",
       " 'ramq_medic_base_inc_1ad2depch': 13015.0,\n",
       " 'ramq_medic_base_inc_2ad1depch': 3355.0,\n",
       " 'ramq_medic_base_inc_2ad2depch': 6455.0,\n",
       " 'ramq_medic_bracket1': 5000.0,\n",
       " 'ramq_medic_bracket2': 14646.0,\n",
       " 'ramq_medic_bracket2_max': 660.0,\n",
       " 'ramq_medic_single_rate1': 0.0674,\n",
       " 'ramq_medic_single_rate2': 0.1013,\n",
       " 'ramq_medic_couple_rate1': 0.034,\n",
       " 'ramq_medic_couple_rate2': 0.0508,\n",
       " 'ramq_medic_max': 650.0,\n",
       " 'ramq_medic_gis_max_single': 9287.0,\n",
       " 'ramq_medic_gis_max_couple': 5848.0,\n",
       " 'rtc_sol_tvq': 281.0,\n",
       " 'rtc_sol_tvq_partner': 281.0,\n",
       " 'rtc_sol_tvq_suppsingle': 134.0,\n",
       " 'rtc_sol_hou_single': 545.0,\n",
       " 'rtc_sol_hou_couple': 661.0,\n",
       " 'rtc_sol_hou_suppch': 116.0,\n",
       " 'rtc_sol_red': 33505.0,\n",
       " 'rtc_sol_redrate_2x': 0.06,\n",
       " 'rtc_sol_redrate_1x': 0.03,\n",
       " 'rtc_sol_north_single': 1655.0,\n",
       " 'rtc_sol_north_ch': 358.0,\n",
       " 'rtc_sol_tvq2': 283.0,\n",
       " 'rtc_sol_tvq_partner2': 283.0,\n",
       " 'rtc_sol_tvq_suppsingle2': 135.0,\n",
       " 'rtc_sol_hou_single2': 548.0,\n",
       " 'rtc_sol_hou_couple2': 665.0,\n",
       " 'rtc_sol_hou_suppch2': 117.0,\n",
       " 'rtc_sol_red2': 33685.0,\n",
       " 'rtc_sol_redrate_2x2': 0.06,\n",
       " 'rtc_sol_redrate_1x2': 0.03,\n",
       " 'rtc_sol_north_single2': 1664.0,\n",
       " 'rtc_sol_north_ch2': 360.0,\n",
       " 'wp_start_single': 2400.0,\n",
       " 'wp_start_couple': 3600.0,\n",
       " 'wp_rate_single': 0.09,\n",
       " 'wp_rate_couple': 0.09,\n",
       " 'wp_stop_single': 10464.0,\n",
       " 'wp_stop_couple': 16190.0,\n",
       " 'wp_red_single': 10464.0,\n",
       " 'wp_red_couple': 16190.0,\n",
       " 'wp_redrate_single': 0.1,\n",
       " 'wp_redrate_couple': 0.1,\n",
       " 'wp_rate_single_child': 0.3,\n",
       " 'wp_rate_couple_child': 0.25,\n",
       " 'work_deduc_max': 1130.0,\n",
       " 'work_deduc_rate': 0.06,\n",
       " 'l_brackets': [0.0, 42390.0, 84780.0, 103150.0],\n",
       " 'l_rates': [0.16, 0.2, 0.24, 0.2575],\n",
       " 'l_constant': [0.0, 6782.4, 15260.4, 19669.2],\n",
       " 'chcare_brack': [34800.0,\n",
       "  36090.0,\n",
       "  37385.0,\n",
       "  38665.0,\n",
       "  39955.0,\n",
       "  41240.0,\n",
       "  42545.0,\n",
       "  43830.0,\n",
       "  45110.0,\n",
       "  46390.0,\n",
       "  47695.0,\n",
       "  48985.0,\n",
       "  50270.0,\n",
       "  51555.0,\n",
       "  52850.0,\n",
       "  95380.0,\n",
       "  136925.0,\n",
       "  138230.0,\n",
       "  139525.0,\n",
       "  140820.0,\n",
       "  142120.0,\n",
       "  143420.0,\n",
       "  144710.0,\n",
       "  146015.0,\n",
       "  147310.0,\n",
       "  148595.0,\n",
       "  149900.0,\n",
       "  151195.0,\n",
       "  152505.0,\n",
       "  153800.0,\n",
       "  155095.0,\n",
       "  10000000.0],\n",
       " 'chcare_rate': [0.75,\n",
       "  0.74,\n",
       "  0.73,\n",
       "  0.72,\n",
       "  0.71,\n",
       "  0.7,\n",
       "  0.69,\n",
       "  0.68,\n",
       "  0.67,\n",
       "  0.66,\n",
       "  0.65,\n",
       "  0.64,\n",
       "  0.63,\n",
       "  0.62,\n",
       "  0.61,\n",
       "  0.6,\n",
       "  0.57,\n",
       "  0.54,\n",
       "  0.52,\n",
       "  0.5,\n",
       "  0.48,\n",
       "  0.46,\n",
       "  0.44,\n",
       "  0.42,\n",
       "  0.4,\n",
       "  0.38,\n",
       "  0.36,\n",
       "  0.34,\n",
       "  0.32,\n",
       "  0.3,\n",
       "  0.28,\n",
       "  0.26]}"
      ]
     },
     "execution_count": 7,
     "metadata": {},
     "output_type": "execute_result"
    }
   ],
   "source": [
    "vars(qc_form)"
   ]
  },
  {
   "cell_type": "markdown",
   "metadata": {},
   "source": [
    "On remplit le rapport d'impôt à l'aide de la fonction file(). "
   ]
  },
  {
   "cell_type": "code",
   "execution_count": 8,
   "metadata": {
    "ExecuteTime": {
     "end_time": "2020-04-15T20:03:28.764069Z",
     "start_time": "2020-04-15T20:03:28.760839Z"
    }
   },
   "outputs": [],
   "source": [
    "qc_form.file(hh)"
   ]
  },
  {
   "cell_type": "markdown",
   "metadata": {},
   "source": [
    "On peut visualiser un rapport d'impôt sommaire qui est rattaché à chaque personne"
   ]
  },
  {
   "cell_type": "code",
   "execution_count": 10,
   "metadata": {
    "ExecuteTime": {
     "end_time": "2020-04-15T20:03:35.646234Z",
     "start_time": "2020-04-15T20:03:35.641729Z"
    }
   },
   "outputs": [
    {
     "data": {
      "text/plain": [
       "{'gross_income': 50000.0,\n",
       " 'deductions': 1130.0,\n",
       " 'net_income': 48870.0,\n",
       " 'taxable_income': 48870.0,\n",
       " 'gross_tax_liability': 8078.4,\n",
       " 'non_refund_credits': 2310.0,\n",
       " 'refund_credits': 0.0,\n",
       " 'net_tax_liability': 5768.4}"
      ]
     },
     "execution_count": 10,
     "metadata": {},
     "output_type": "execute_result"
    }
   ],
   "source": [
    "jean.prov_return"
   ]
  },
  {
   "cell_type": "code",
   "execution_count": 11,
   "metadata": {
    "ExecuteTime": {
     "end_time": "2020-04-15T20:03:50.112608Z",
     "start_time": "2020-04-15T20:03:50.108093Z"
    }
   },
   "outputs": [
    {
     "data": {
      "text/plain": [
       "{'gross_income': 25000.0,\n",
       " 'deductions': 1130.0,\n",
       " 'net_income': 23870.0,\n",
       " 'taxable_income': 23870.0,\n",
       " 'gross_tax_liability': 3819.2000000000003,\n",
       " 'non_refund_credits': 2310.0,\n",
       " 'refund_credits': 0.0,\n",
       " 'net_tax_liability': 1509.2000000000003}"
      ]
     },
     "execution_count": 11,
     "metadata": {},
     "output_type": "execute_result"
    }
   ],
   "source": [
    "pauline.prov_return"
   ]
  },
  {
   "cell_type": "markdown",
   "metadata": {},
   "source": [
    "## Expérience"
   ]
  },
  {
   "cell_type": "markdown",
   "metadata": {},
   "source": [
    "On peut faire des expériences assez complexe. La première serait de regader l'impôt provincial payé si on incrémente les revenus de travail"
   ]
  },
  {
   "cell_type": "code",
   "execution_count": 14,
   "metadata": {
    "ExecuteTime": {
     "end_time": "2020-04-15T20:05:34.911167Z",
     "start_time": "2020-04-15T20:05:34.358963Z"
    }
   },
   "outputs": [
    {
     "data": {
      "image/png": "[encoded data removed]",
      "text/plain": [
       "<Figure size 432x288 with 1 Axes>"
      ]
     },
     "metadata": {
      "needs_background": "light"
     },
     "output_type": "display_data"
    }
   ],
   "source": [
    "earns = np.linspace(10e3,200e3,100)\n",
    "atrs = []\n",
    "for earn in earns:\n",
    "    jean.inc_earn = earn\n",
    "    qc_form.file(hh)\n",
    "    atrs.append(jean.prov_return['net_tax_liability']/jean.prov_return['gross_income'])\n",
    "from matplotlib import pyplot as plt\n",
    "plt.figure()\n",
    "plt.plot(earns,atrs)\n",
    "plt.xlabel('niveau de revenu de travail')\n",
    "plt.ylabel('taux moyen imposition effectif')\n",
    "plt.show()"
   ]
  },
  {
   "cell_type": "markdown",
   "metadata": {},
   "source": [
    "On peut aussi faire une expérience ou on change un paramètre du système d'imposition. Supposons qu'on change le montant de base en l'augmentant"
   ]
  },
  {
   "cell_type": "code",
   "execution_count": null,
   "metadata": {
    "ExecuteTime": {
     "end_time": "2020-04-10T17:58:43.431826Z",
     "start_time": "2020-04-10T17:58:43.224031Z"
    }
   },
   "outputs": [],
   "source": [
    "base = np.linspace(1.0,1.5,10)\n",
    "atrs = []\n",
    "bases = []\n",
    "jean.inc_earn = 50e3\n",
    "base_amount = qc_form.base\n",
    "for b in base:\n",
    "    qc_form.base = base_amount*b\n",
    "    bases.append(fed_form.basic_amount)\n",
    "    prov_form.file(hh)\n",
    "    atrs.append(jean.prov_return['net_tax_liability']/jean.fprov_return['gross_income'])\n",
    "from matplotlib import pyplot as plt\n",
    "plt.figure()\n",
    "plt.plot(bases,atrs)\n",
    "plt.xlabel('montant de base')\n",
    "plt.ylabel('taux moyen imposition effectif')\n",
    "plt.show()"
   ]
  },
  {
   "cell_type": "code",
   "execution_count": null,
   "metadata": {},
   "outputs": [],
   "source": []
  }
 ],
 "metadata": {
  "kernelspec": {
   "display_name": "Python 3",
   "language": "python",
   "name": "python3"
  },
  "language_info": {
   "codemirror_mode": {
    "name": "ipython",
    "version": 3
   },
   "file_extension": ".py",
   "mimetype": "text/x-python",
   "name": "python",
   "nbconvert_exporter": "python",
   "pygments_lexer": "ipython3",
   "version": "3.6.10"
  },
  "latex_envs": {
   "LaTeX_envs_menu_present": true,
   "autoclose": false,
   "autocomplete": true,
   "bibliofile": "biblio.bib",
   "cite_by": "apalike",
   "current_citInitial": 1,
   "eqLabelWithNumbers": true,
   "eqNumInitial": 1,
   "hotkeys": {
    "equation": "Ctrl-E",
    "itemize": "Ctrl-I"
   },
   "labels_anchors": false,
   "latex_user_defs": false,
   "report_style_numbering": false,
   "user_envs_cfg": false
  },
  "varInspector": {
   "cols": {
    "lenName": 16,
    "lenType": 16,
    "lenVar": 40
   },
   "kernels_config": {
    "python": {
     "delete_cmd_postfix": "",
     "delete_cmd_prefix": "del ",
     "library": "var_list.py",
     "varRefreshCmd": "print(var_dic_list())"
    },
    "r": {
     "delete_cmd_postfix": ") ",
     "delete_cmd_prefix": "rm(",
     "library": "var_list.r",
     "varRefreshCmd": "cat(var_dic_list()) "
    }
   },
   "types_to_exclude": [
    "module",
    "function",
    "builtin_function_or_method",
    "instance",
    "_Feature"
   ],
   "window_display": false
  }
 },
 "nbformat": 4,
 "nbformat_minor": 4
}
