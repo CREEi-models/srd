{
 "cells": [
  {
   "cell_type": "code",
   "execution_count": 1,
   "metadata": {},
   "outputs": [],
   "source": [
    "import numpy as np \n",
    "import csv\n",
    "import pandas as pd\n",
    "from matplotlib import pyplot as plt\n",
    "\n",
    "import sys\n",
    "import os"
   ]
  },
  {
   "cell_type": "code",
   "execution_count": 2,
   "metadata": {},
   "outputs": [
    {
     "name": "stdout",
     "output_type": "stream",
     "text": [
      "Utilisateur : Roger\n"
     ]
    }
   ],
   "source": [
    "nj = (os.getcwd()=='C:\\\\Users\\\\80002036\\\\Documents\\\\GitHub\\\\srd\\\\tests')\n",
    "\n",
    "if nj :\n",
    "    sys.path.append('C:/Users/80002036/Documents/GitHub/srd')\n",
    "    sys.path.append('C:/Users/80002036/Documents/GitHub/srpp')\n",
    "    print('Utilisateur : NJ')\n",
    "\n",
    "if not nj:\n",
    "    sys.path.append('C:/Users/roger/Documents/GitHub/srd')\n",
    "    sys.path.append('C:/Users/roger/Documents/GitHub/srpp')\n",
    "    print('Utilisateur : Roger')"
   ]
  },
  {
   "cell_type": "code",
   "execution_count": 3,
   "metadata": {
    "ExecuteTime": {
     "end_time": "2020-04-16T00:25:22.621298Z",
     "start_time": "2020-04-16T00:25:22.618204Z"
    }
   },
   "outputs": [],
   "source": [
    "import sys\n",
    "sys.path.append('/users/loulou/cedia/srd/Model/')"
   ]
  },
  {
   "cell_type": "markdown",
   "metadata": {},
   "source": [
    "### Construction du ménage\n",
    "\n",
    "On construit un ménage ou les deux conjoints ont 45 ans, les revenus de travail sont respectivement 50000\\$ et 25000\\$ et Jean contribue 5000\\$ à son REER. "
   ]
  },
  {
   "cell_type": "code",
   "execution_count": 4,
   "metadata": {
    "ExecuteTime": {
     "end_time": "2020-04-16T00:25:23.741767Z",
     "start_time": "2020-04-16T00:25:23.399395Z"
    }
   },
   "outputs": [],
   "source": [
    "import srd"
   ]
  },
  {
   "cell_type": "code",
   "execution_count": 5,
   "metadata": {
    "ExecuteTime": {
     "end_time": "2020-04-16T00:25:24.405007Z",
     "start_time": "2020-04-16T00:25:24.400723Z"
    }
   },
   "outputs": [],
   "source": [
    "jean = srd.Person(age=45,earn=50e3,con_rrsp=5e3)\n",
    "pauline = srd.Person(age=45,earn=25e3)\n",
    "hh = srd.Hhold(jean,pauline,prov='qc')"
   ]
  },
  {
   "cell_type": "markdown",
   "metadata": {},
   "source": [
    "Le revenu familial total et net (après impôt) est initialisé à la même valeur si aucun calcul des impôt est fait. Le revenu disponible retire la cotisation REER. "
   ]
  },
  {
   "cell_type": "code",
   "execution_count": 7,
   "metadata": {
    "ExecuteTime": {
     "end_time": "2020-04-16T00:25:25.643259Z",
     "start_time": "2020-04-16T00:25:25.630560Z"
    }
   },
   "outputs": [
    {
     "name": "stdout",
     "output_type": "stream",
     "text": [
      "unsupported operand type(s) for +: 'int' and 'NoneType': need to run household through simulator to obtain fam_after_tax_inc\n",
      "unsupported operand type(s) for +: 'int' and 'NoneType': need to run household through simulator to obtain fam_disp_inc\n"
     ]
    },
    {
     "data": {
      "text/plain": [
       "(75000.0, None, None)"
      ]
     },
     "execution_count": 7,
     "metadata": {},
     "output_type": "execute_result"
    }
   ],
   "source": [
    "hh.fam_inc_tot, hh.fam_after_tax_inc, hh.fam_disp_inc"
   ]
  },
  {
   "cell_type": "markdown",
   "metadata": {},
   "source": [
    "### Le calculateur"
   ]
  },
  {
   "cell_type": "markdown",
   "metadata": {},
   "source": [
    "On invoque une instance du calculateur en spécifiant l'année. Il existe aussi des indicateurs pour spécifier si on veut ou non le calcul de différents impôts. L'exemple ici utilisera seulement le calcul de l'impôt fédéral. "
   ]
  },
  {
   "cell_type": "code",
   "execution_count": 10,
   "metadata": {
    "ExecuteTime": {
     "end_time": "2020-04-16T00:26:40.804524Z",
     "start_time": "2020-04-16T00:26:40.683521Z"
    }
   },
   "outputs": [],
   "source": [
    "tax_form = srd.tax(2022)"
   ]
  },
  {
   "cell_type": "markdown",
   "metadata": {},
   "source": [
    "La fonction compute() calcule tous les impôts et cotisations demandées"
   ]
  },
  {
   "cell_type": "code",
   "execution_count": 11,
   "metadata": {
    "ExecuteTime": {
     "end_time": "2020-04-16T00:26:41.909017Z",
     "start_time": "2020-04-16T00:26:41.904175Z"
    }
   },
   "outputs": [
    {
     "data": {
      "text/plain": [
       "<srd.actors.Hhold at 0x2d3b8b21280>"
      ]
     },
     "execution_count": 11,
     "metadata": {},
     "output_type": "execute_result"
    }
   ],
   "source": [
    "tax_form.compute(hh)"
   ]
  },
  {
   "cell_type": "markdown",
   "metadata": {},
   "source": [
    "### Calcul des revenus net et disponible\n",
    "\n",
    "Après avoir fait les calculs, on peut calculer différents concepts de revenus après impôt à l'aide des fonctions netinc() et dispinc(). Celles-ci viendront modifier les attributs des conjoints pour les variables net_inc et disp_inc. "
   ]
  },
  {
   "cell_type": "code",
   "execution_count": 12,
   "metadata": {
    "ExecuteTime": {
     "end_time": "2020-04-16T00:26:43.282996Z",
     "start_time": "2020-04-16T00:26:43.279994Z"
    }
   },
   "outputs": [],
   "source": [
    "tax_form.disp_inc(hh)"
   ]
  },
  {
   "cell_type": "code",
   "execution_count": 13,
   "metadata": {
    "ExecuteTime": {
     "end_time": "2020-04-16T00:26:43.905317Z",
     "start_time": "2020-04-16T00:26:43.902326Z"
    }
   },
   "outputs": [],
   "source": [
    "tax_form.compute_after_tax_inc(hh)"
   ]
  },
  {
   "cell_type": "markdown",
   "metadata": {},
   "source": [
    "On peut voir que les variables ont été modifiées. "
   ]
  },
  {
   "cell_type": "code",
   "execution_count": 14,
   "metadata": {
    "ExecuteTime": {
     "end_time": "2020-04-16T00:26:45.194708Z",
     "start_time": "2020-04-16T00:26:45.189361Z"
    }
   },
   "outputs": [
    {
     "data": {
      "text/plain": [
       "(75000.0, 66834.418125, 56381.918125)"
      ]
     },
     "execution_count": 14,
     "metadata": {},
     "output_type": "execute_result"
    }
   ],
   "source": [
    "hh.fam_inc_tot, hh.fam_after_tax_inc, hh.fam_disp_inc"
   ]
  },
  {
   "cell_type": "code",
   "execution_count": 15,
   "metadata": {
    "ExecuteTime": {
     "end_time": "2020-04-16T00:26:45.500068Z",
     "start_time": "2020-04-16T00:26:45.495252Z"
    }
   },
   "outputs": [
    {
     "data": {
      "text/plain": [
       "(50000.0, 43301.5791875, 34594.8291875)"
      ]
     },
     "execution_count": 15,
     "metadata": {},
     "output_type": "execute_result"
    }
   ],
   "source": [
    "jean.inc_tot, jean.after_tax_inc, jean.disp_inc"
   ]
  },
  {
   "cell_type": "code",
   "execution_count": 16,
   "metadata": {
    "ExecuteTime": {
     "end_time": "2020-04-16T00:26:45.995987Z",
     "start_time": "2020-04-16T00:26:45.991270Z"
    }
   },
   "outputs": [
    {
     "data": {
      "text/plain": [
       "(25000.0, 23532.8389375, 21787.0889375)"
      ]
     },
     "execution_count": 16,
     "metadata": {},
     "output_type": "execute_result"
    }
   ],
   "source": [
    "pauline.inc_tot, pauline.after_tax_inc, pauline.disp_inc"
   ]
  },
  {
   "cell_type": "code",
   "execution_count": 17,
   "metadata": {
    "ExecuteTime": {
     "end_time": "2020-04-16T00:27:25.865009Z",
     "start_time": "2020-04-16T00:27:25.860737Z"
    }
   },
   "outputs": [
    {
     "data": {
      "text/plain": [
       "0"
      ]
     },
     "execution_count": 17,
     "metadata": {},
     "output_type": "execute_result"
    }
   ],
   "source": [
    "pauline.inc_oas"
   ]
  }
 ],
 "metadata": {
  "kernelspec": {
   "display_name": "Python 3",
   "language": "python",
   "name": "python3"
  },
  "language_info": {
   "codemirror_mode": {
    "name": "ipython",
    "version": 3
   },
   "file_extension": ".py",
   "mimetype": "text/x-python",
   "name": "python",
   "nbconvert_exporter": "python",
   "pygments_lexer": "ipython3",
   "version": "3.8.5"
  },
  "latex_envs": {
   "LaTeX_envs_menu_present": true,
   "autoclose": false,
   "autocomplete": true,
   "bibliofile": "biblio.bib",
   "cite_by": "apalike",
   "current_citInitial": 1,
   "eqLabelWithNumbers": true,
   "eqNumInitial": 1,
   "hotkeys": {
    "equation": "Ctrl-E",
    "itemize": "Ctrl-I"
   },
   "labels_anchors": false,
   "latex_user_defs": false,
   "report_style_numbering": false,
   "user_envs_cfg": false
  },
  "varInspector": {
   "cols": {
    "lenName": 16,
    "lenType": 16,
    "lenVar": 40
   },
   "kernels_config": {
    "python": {
     "delete_cmd_postfix": "",
     "delete_cmd_prefix": "del ",
     "library": "var_list.py",
     "varRefreshCmd": "print(var_dic_list())"
    },
    "r": {
     "delete_cmd_postfix": ") ",
     "delete_cmd_prefix": "rm(",
     "library": "var_list.r",
     "varRefreshCmd": "cat(var_dic_list()) "
    }
   },
   "types_to_exclude": [
    "module",
    "function",
    "builtin_function_or_method",
    "instance",
    "_Feature"
   ],
   "window_display": false
  },
  "vscode": {
   "interpreter": {
    "hash": "9909264b6bdbca3045af8bd3e6a0b6c0c29d38c2a192ba1c83bb2539a765db59"
   }
  }
 },
 "nbformat": 4,
 "nbformat_minor": 4
}
