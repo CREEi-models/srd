{
 "cells": [
  {
   "cell_type": "code",
   "execution_count": 25,
   "metadata": {
    "ExecuteTime": {
     "end_time": "2020-04-10T18:06:24.940529Z",
     "start_time": "2020-04-10T18:06:24.937393Z"
    }
   },
   "outputs": [],
   "source": [
    "import sys\n",
    "sys.path.append('/users/loulou/srd/')"
   ]
  },
  {
   "cell_type": "markdown",
   "metadata": {},
   "source": [
    "### Construction du ménage\n",
    "\n",
    "On construit un ménage ou les deux conjoints ont 45 ans, les revenus de travail sont respectivement 50000\\$ et 25000\\$ et Jean contribue 5000\\$ à son REER. "
   ]
  },
  {
   "cell_type": "code",
   "execution_count": 26,
   "metadata": {
    "ExecuteTime": {
     "end_time": "2020-04-10T18:06:25.146975Z",
     "start_time": "2020-04-10T18:06:25.144175Z"
    }
   },
   "outputs": [],
   "source": [
    "import srd"
   ]
  },
  {
   "cell_type": "code",
   "execution_count": 27,
   "metadata": {
    "ExecuteTime": {
     "end_time": "2020-04-10T18:06:25.299567Z",
     "start_time": "2020-04-10T18:06:25.295329Z"
    }
   },
   "outputs": [],
   "source": [
    "jean = srd.Person(age=45,earn=50e3,con_rrsp=5e3)\n",
    "pauline = srd.Person(age=45,earn=25e3)\n",
    "hh = srd.Hhold(jean,pauline,prov='qc')"
   ]
  },
  {
   "cell_type": "markdown",
   "metadata": {},
   "source": [
    "Le revenu familial total et net (après impôt) est initialisé à la même valeur si aucun calcul des impôt est fait. Le revenu disponible retire la cotisation REER. "
   ]
  },
  {
   "cell_type": "code",
   "execution_count": 28,
   "metadata": {
    "ExecuteTime": {
     "end_time": "2020-04-10T18:06:25.468117Z",
     "start_time": "2020-04-10T18:06:25.463455Z"
    }
   },
   "outputs": [
    {
     "data": {
      "text/plain": [
       "(75000.0, 75000.0, 70000.0)"
      ]
     },
     "execution_count": 28,
     "metadata": {},
     "output_type": "execute_result"
    }
   ],
   "source": [
    "hh.fam_tot_inc(), hh.fam_net_inc(), hh.fam_disp_inc()"
   ]
  },
  {
   "cell_type": "markdown",
   "metadata": {},
   "source": [
    "### Le calculateur"
   ]
  },
  {
   "cell_type": "markdown",
   "metadata": {},
   "source": [
    "On invoque une instance du calculateur en spécifiant l'année. Il existe aussi des indicateurs pour spécifier si on veut ou non le calcul de différents impôts. L'exemple ici utilisera seulement le calcul de l'impôt fédéral. "
   ]
  },
  {
   "cell_type": "code",
   "execution_count": 29,
   "metadata": {
    "ExecuteTime": {
     "end_time": "2020-04-10T18:06:25.629333Z",
     "start_time": "2020-04-10T18:06:25.625513Z"
    }
   },
   "outputs": [],
   "source": [
    "tax = srd.tax(2016)"
   ]
  },
  {
   "cell_type": "markdown",
   "metadata": {},
   "source": [
    "La fonction compute() calcule tous les impôts et cotisations demandées"
   ]
  },
  {
   "cell_type": "code",
   "execution_count": 30,
   "metadata": {
    "ExecuteTime": {
     "end_time": "2020-04-10T18:06:25.882271Z",
     "start_time": "2020-04-10T18:06:25.879108Z"
    }
   },
   "outputs": [],
   "source": [
    "tax.compute(hh)"
   ]
  },
  {
   "cell_type": "markdown",
   "metadata": {},
   "source": [
    "### Calcul des revenus net et disponible\n",
    "\n",
    "Après avoir fait les calculs, on peut calculer différents concepts de revenus après impôt à l'aide des fonctions netinc() et dispinc(). Celles-ci viendront modifier les attributs des conjoints pour les variables net_inc et disp_inc. "
   ]
  },
  {
   "cell_type": "code",
   "execution_count": 31,
   "metadata": {
    "ExecuteTime": {
     "end_time": "2020-04-10T18:06:26.076530Z",
     "start_time": "2020-04-10T18:06:26.073507Z"
    }
   },
   "outputs": [],
   "source": [
    "tax.netinc(hh)"
   ]
  },
  {
   "cell_type": "code",
   "execution_count": 33,
   "metadata": {
    "ExecuteTime": {
     "end_time": "2020-04-10T18:06:26.386116Z",
     "start_time": "2020-04-10T18:06:26.383075Z"
    }
   },
   "outputs": [],
   "source": [
    "tax.dispinc(hh)"
   ]
  },
  {
   "cell_type": "markdown",
   "metadata": {},
   "source": [
    "On peut voir que les variables ont été modifiées. "
   ]
  },
  {
   "cell_type": "code",
   "execution_count": 34,
   "metadata": {
    "ExecuteTime": {
     "end_time": "2020-04-10T18:06:26.715819Z",
     "start_time": "2020-04-10T18:06:26.711111Z"
    }
   },
   "outputs": [
    {
     "data": {
      "text/plain": [
       "(75000.0, 69106.737, 64106.736999999994)"
      ]
     },
     "execution_count": 34,
     "metadata": {},
     "output_type": "execute_result"
    }
   ],
   "source": [
    "hh.fam_tot_inc(), hh.fam_net_inc(), hh.fam_disp_inc()"
   ]
  },
  {
   "cell_type": "code",
   "execution_count": 37,
   "metadata": {
    "ExecuteTime": {
     "end_time": "2020-04-10T18:07:31.758797Z",
     "start_time": "2020-04-10T18:07:31.754165Z"
    }
   },
   "outputs": [
    {
     "data": {
      "text/plain": [
       "(50000.0, 45800.8685, 40800.8685)"
      ]
     },
     "execution_count": 37,
     "metadata": {},
     "output_type": "execute_result"
    }
   ],
   "source": [
    "jean.inc_tot(), jean.net_inc, jean.disp_inc"
   ]
  },
  {
   "cell_type": "code",
   "execution_count": 38,
   "metadata": {
    "ExecuteTime": {
     "end_time": "2020-04-10T18:08:10.199716Z",
     "start_time": "2020-04-10T18:08:10.195117Z"
    }
   },
   "outputs": [
    {
     "data": {
      "text/plain": [
       "(25000.0, 23305.8685, 23305.8685)"
      ]
     },
     "execution_count": 38,
     "metadata": {},
     "output_type": "execute_result"
    }
   ],
   "source": [
    "pauline.inc_tot(), pauline.net_inc, pauline.disp_inc"
   ]
  }
 ],
 "metadata": {
  "kernelspec": {
   "display_name": "Python 3",
   "language": "python",
   "name": "python3"
  },
  "language_info": {
   "codemirror_mode": {
    "name": "ipython",
    "version": 3
   },
   "file_extension": ".py",
   "mimetype": "text/x-python",
   "name": "python",
   "nbconvert_exporter": "python",
   "pygments_lexer": "ipython3",
   "version": "3.6.10"
  },
  "latex_envs": {
   "LaTeX_envs_menu_present": true,
   "autoclose": false,
   "autocomplete": true,
   "bibliofile": "biblio.bib",
   "cite_by": "apalike",
   "current_citInitial": 1,
   "eqLabelWithNumbers": true,
   "eqNumInitial": 1,
   "hotkeys": {
    "equation": "Ctrl-E",
    "itemize": "Ctrl-I"
   },
   "labels_anchors": false,
   "latex_user_defs": false,
   "report_style_numbering": false,
   "user_envs_cfg": false
  },
  "varInspector": {
   "cols": {
    "lenName": 16,
    "lenType": 16,
    "lenVar": 40
   },
   "kernels_config": {
    "python": {
     "delete_cmd_postfix": "",
     "delete_cmd_prefix": "del ",
     "library": "var_list.py",
     "varRefreshCmd": "print(var_dic_list())"
    },
    "r": {
     "delete_cmd_postfix": ") ",
     "delete_cmd_prefix": "rm(",
     "library": "var_list.r",
     "varRefreshCmd": "cat(var_dic_list()) "
    }
   },
   "types_to_exclude": [
    "module",
    "function",
    "builtin_function_or_method",
    "instance",
    "_Feature"
   ],
   "window_display": false
  }
 },
 "nbformat": 4,
 "nbformat_minor": 4
}
