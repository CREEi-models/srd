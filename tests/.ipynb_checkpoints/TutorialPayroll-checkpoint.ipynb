{
 "cells": [
  {
   "cell_type": "code",
   "execution_count": 1,
   "metadata": {
    "ExecuteTime": {
     "end_time": "2020-04-15T23:05:23.641561Z",
     "start_time": "2020-04-15T23:05:23.638484Z"
    }
   },
   "outputs": [],
   "source": [
    "import sys\n",
    "sys.path.append('/users/loulou/cedia/srd/Model/')"
   ]
  },
  {
   "cell_type": "markdown",
   "metadata": {},
   "source": [
    "## Importation du module"
   ]
  },
  {
   "cell_type": "code",
   "execution_count": 2,
   "metadata": {
    "ExecuteTime": {
     "end_time": "2020-04-15T23:05:25.941186Z",
     "start_time": "2020-04-15T23:05:25.918943Z"
    }
   },
   "outputs": [],
   "source": [
    "import srd"
   ]
  },
  {
   "cell_type": "markdown",
   "metadata": {},
   "source": [
    "## Intialisation d'un ménage\n",
    "\n",
    "On doit d'abord initialiser un ménage. Ici nous supposerons un couple avec deux membres ayant l'âge de 45 ans et des revenus de travail de 50,000\\$ et 25,000\\$ respectivement. "
   ]
  },
  {
   "cell_type": "code",
   "execution_count": 3,
   "metadata": {
    "ExecuteTime": {
     "end_time": "2020-04-15T23:05:26.765510Z",
     "start_time": "2020-04-15T23:05:26.761854Z"
    }
   },
   "outputs": [],
   "source": [
    "jean = srd.Person(age=45,earn=50e3)\n",
    "pauline = srd.Person(age=45,earn=25e3)"
   ]
  },
  {
   "cell_type": "markdown",
   "metadata": {},
   "source": [
    "On les insère dans un ménage vivant au Québec"
   ]
  },
  {
   "cell_type": "code",
   "execution_count": 4,
   "metadata": {
    "ExecuteTime": {
     "end_time": "2020-04-15T23:05:28.082391Z",
     "start_time": "2020-04-15T23:05:28.079027Z"
    }
   },
   "outputs": [],
   "source": [
    "hh = srd.Hhold(jean,pauline,prov='qc')"
   ]
  },
  {
   "cell_type": "markdown",
   "metadata": {},
   "source": [
    "On peut voir le profil de chacun des membres du ménage en utilisant vars(): "
   ]
  },
  {
   "cell_type": "code",
   "execution_count": 5,
   "metadata": {
    "ExecuteTime": {
     "end_time": "2020-04-15T23:05:30.132953Z",
     "start_time": "2020-04-15T23:05:30.119961Z"
    }
   },
   "outputs": [
    {
     "data": {
      "text/plain": [
       "{'age': 45,\n",
       " 'male': True,\n",
       " 'inc_earn': 50000.0,\n",
       " 'inc_rpp': 0,\n",
       " 'inc_cpp': 0,\n",
       " 'inc_othtax': 0,\n",
       " 'inc_othntax': 0,\n",
       " 'inc_rrsp': 0,\n",
       " 'con_rrsp': 0,\n",
       " 'years_can': None,\n",
       " 'inc_self_earn': 0,\n",
       " 'disabled': False,\n",
       " 'cqppc': None,\n",
       " 'widow': False,\n",
       " 'asset': 0,\n",
       " 'dc_exp0_7': 0,\n",
       " 'dc_exp8_16': 0,\n",
       " 'oas_years_post': 0,\n",
       " 'inc_oas': 0.0,\n",
       " 'inc_gis': 0.0,\n",
       " 'allow_couple': 0,\n",
       " 'allow_surv': 0,\n",
       " 'fed_return': None,\n",
       " 'pro_return': None,\n",
       " 'payroll': None,\n",
       " 'net_inc': 50000.0,\n",
       " 'disp_inc': 50000.0}"
      ]
     },
     "execution_count": 5,
     "metadata": {},
     "output_type": "execute_result"
    }
   ],
   "source": [
    "vars(jean)"
   ]
  },
  {
   "cell_type": "markdown",
   "metadata": {},
   "source": [
    "## Calcul des contributions à l'assurance emploi\n",
    "\n",
    "On doit d'abord créer un rapport d'impôt pour une année en particulier. "
   ]
  },
  {
   "cell_type": "code",
   "execution_count": 6,
   "metadata": {
    "ExecuteTime": {
     "end_time": "2020-04-15T23:06:06.633540Z",
     "start_time": "2020-04-15T23:06:06.625959Z"
    }
   },
   "outputs": [],
   "source": [
    "from srd import ei\n",
    "ei_prog = ei.program(2016)"
   ]
  },
  {
   "cell_type": "markdown",
   "metadata": {},
   "source": [
    "On peut voir les différents paramètres du système fiscal en utilisant encore vars()"
   ]
  },
  {
   "cell_type": "code",
   "execution_count": 7,
   "metadata": {
    "ExecuteTime": {
     "end_time": "2020-04-15T23:06:13.549145Z",
     "start_time": "2020-04-15T23:06:13.544655Z"
    }
   },
   "outputs": [
    {
     "data": {
      "text/plain": [
       "{'rate_EI': 0.0188, 'rate_EI_qc': 0.0152, 'max_earn_EI': 50800.0}"
      ]
     },
     "execution_count": 7,
     "metadata": {},
     "output_type": "execute_result"
    }
   ],
   "source": [
    "vars(ei_prog)"
   ]
  },
  {
   "cell_type": "markdown",
   "metadata": {},
   "source": [
    "On remplit le rapport d'impôt à l'aide de la fonction file(). "
   ]
  },
  {
   "cell_type": "code",
   "execution_count": 8,
   "metadata": {
    "ExecuteTime": {
     "end_time": "2020-04-15T20:03:28.764069Z",
     "start_time": "2020-04-15T20:03:28.760839Z"
    }
   },
   "outputs": [],
   "source": [
    "ei_prog.get_contrib(hh)"
   ]
  },
  {
   "cell_type": "markdown",
   "metadata": {},
   "source": [
    "On peut visualiser un rapport d'impôt sommaire qui est rattaché à chaque personne"
   ]
  },
  {
   "cell_type": "code",
   "execution_count": 10,
   "metadata": {
    "ExecuteTime": {
     "end_time": "2020-04-15T20:03:35.646234Z",
     "start_time": "2020-04-15T20:03:35.641729Z"
    }
   },
   "outputs": [
    {
     "data": {
      "text/plain": [
       "{'gross_income': 50000.0,\n",
       " 'deductions': 1130.0,\n",
       " 'net_income': 48870.0,\n",
       " 'taxable_income': 48870.0,\n",
       " 'gross_tax_liability': 8078.4,\n",
       " 'non_refund_credits': 2310.0,\n",
       " 'refund_credits': 0.0,\n",
       " 'net_tax_liability': 5768.4}"
      ]
     },
     "execution_count": 10,
     "metadata": {},
     "output_type": "execute_result"
    }
   ],
   "source": [
    "jean.prov_return"
   ]
  },
  {
   "cell_type": "code",
   "execution_count": 11,
   "metadata": {
    "ExecuteTime": {
     "end_time": "2020-04-15T20:03:50.112608Z",
     "start_time": "2020-04-15T20:03:50.108093Z"
    }
   },
   "outputs": [
    {
     "data": {
      "text/plain": [
       "{'gross_income': 25000.0,\n",
       " 'deductions': 1130.0,\n",
       " 'net_income': 23870.0,\n",
       " 'taxable_income': 23870.0,\n",
       " 'gross_tax_liability': 3819.2000000000003,\n",
       " 'non_refund_credits': 2310.0,\n",
       " 'refund_credits': 0.0,\n",
       " 'net_tax_liability': 1509.2000000000003}"
      ]
     },
     "execution_count": 11,
     "metadata": {},
     "output_type": "execute_result"
    }
   ],
   "source": [
    "pauline.prov_return"
   ]
  },
  {
   "cell_type": "markdown",
   "metadata": {},
   "source": [
    "## Expérience"
   ]
  },
  {
   "cell_type": "markdown",
   "metadata": {},
   "source": [
    "On peut faire des expériences assez complexe. La première serait de regader l'impôt provincial payé si on incrémente les revenus de travail"
   ]
  },
  {
   "cell_type": "code",
   "execution_count": 14,
   "metadata": {
    "ExecuteTime": {
     "end_time": "2020-04-15T20:05:34.911167Z",
     "start_time": "2020-04-15T20:05:34.358963Z"
    }
   },
   "outputs": [
    {
     "data": {
      "image/png": "[encoded data removed]",
      "text/plain": [
       "<Figure size 432x288 with 1 Axes>"
      ]
     },
     "metadata": {
      "needs_background": "light"
     },
     "output_type": "display_data"
    }
   ],
   "source": [
    "earns = np.linspace(10e3,200e3,100)\n",
    "atrs = []\n",
    "for earn in earns:\n",
    "    jean.inc_earn = earn\n",
    "    qc_form.file(hh)\n",
    "    atrs.append(jean.prov_return['net_tax_liability']/jean.prov_return['gross_income'])\n",
    "from matplotlib import pyplot as plt\n",
    "plt.figure()\n",
    "plt.plot(earns,atrs)\n",
    "plt.xlabel('niveau de revenu de travail')\n",
    "plt.ylabel('taux moyen imposition effectif')\n",
    "plt.show()"
   ]
  },
  {
   "cell_type": "markdown",
   "metadata": {},
   "source": [
    "On peut aussi faire une expérience ou on change un paramètre du système d'imposition. Supposons qu'on change le montant de base en l'augmentant"
   ]
  },
  {
   "cell_type": "code",
   "execution_count": 18,
   "metadata": {
    "ExecuteTime": {
     "end_time": "2020-04-15T20:06:35.049193Z",
     "start_time": "2020-04-15T20:06:34.864453Z"
    }
   },
   "outputs": [
    {
     "data": {
      "image/png": "[encoded data removed]",
      "text/plain": [
       "<Figure size 432x288 with 1 Axes>"
      ]
     },
     "metadata": {
      "needs_background": "light"
     },
     "output_type": "display_data"
    }
   ],
   "source": [
    "base = np.linspace(1.0,1.5,10)\n",
    "atrs = []\n",
    "bases = []\n",
    "jean.inc_earn = 50e3\n",
    "base_amount = qc_form.base\n",
    "for b in base:\n",
    "    qc_form.base = base_amount*b\n",
    "    bases.append(qc_form.base)\n",
    "    qc_form.file(hh)\n",
    "    atrs.append(jean.prov_return['net_tax_liability']/jean.prov_return['gross_income'])\n",
    "from matplotlib import pyplot as plt\n",
    "plt.figure()\n",
    "plt.plot(bases,atrs)\n",
    "plt.xlabel('montant de base')\n",
    "plt.ylabel('taux moyen imposition effectif')\n",
    "plt.show()"
   ]
  },
  {
   "cell_type": "code",
   "execution_count": null,
   "metadata": {},
   "outputs": [],
   "source": []
  }
 ],
 "metadata": {
  "kernelspec": {
   "display_name": "Python 3",
   "language": "python",
   "name": "python3"
  },
  "language_info": {
   "codemirror_mode": {
    "name": "ipython",
    "version": 3
   },
   "file_extension": ".py",
   "mimetype": "text/x-python",
   "name": "python",
   "nbconvert_exporter": "python",
   "pygments_lexer": "ipython3",
   "version": "3.6.10"
  },
  "latex_envs": {
   "LaTeX_envs_menu_present": true,
   "autoclose": false,
   "autocomplete": true,
   "bibliofile": "biblio.bib",
   "cite_by": "apalike",
   "current_citInitial": 1,
   "eqLabelWithNumbers": true,
   "eqNumInitial": 1,
   "hotkeys": {
    "equation": "Ctrl-E",
    "itemize": "Ctrl-I"
   },
   "labels_anchors": false,
   "latex_user_defs": false,
   "report_style_numbering": false,
   "user_envs_cfg": false
  },
  "varInspector": {
   "cols": {
    "lenName": 16,
    "lenType": 16,
    "lenVar": 40
   },
   "kernels_config": {
    "python": {
     "delete_cmd_postfix": "",
     "delete_cmd_prefix": "del ",
     "library": "var_list.py",
     "varRefreshCmd": "print(var_dic_list())"
    },
    "r": {
     "delete_cmd_postfix": ") ",
     "delete_cmd_prefix": "rm(",
     "library": "var_list.r",
     "varRefreshCmd": "cat(var_dic_list()) "
    }
   },
   "types_to_exclude": [
    "module",
    "function",
    "builtin_function_or_method",
    "instance",
    "_Feature"
   ],
   "window_display": false
  }
 },
 "nbformat": 4,
 "nbformat_minor": 4
}
