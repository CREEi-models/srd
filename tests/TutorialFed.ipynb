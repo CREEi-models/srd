{
 "cells": [
  {
   "cell_type": "code",
   "execution_count": 1,
   "metadata": {
    "ExecuteTime": {
     "end_time": "2020-04-10T17:58:25.345824Z",
     "start_time": "2020-04-10T17:58:25.342809Z"
    }
   },
   "outputs": [],
   "source": [
    "import numpy as np \n",
    "import csv\n",
    "import pandas as pd\n",
    "from matplotlib import pyplot as plt\n",
    "\n",
    "import sys\n",
    "import os"
   ]
  },
  {
   "cell_type": "code",
   "execution_count": 2,
   "metadata": {},
   "outputs": [
    {
     "name": "stdout",
     "output_type": "stream",
     "text": [
      "Utilisateur : Roger\n"
     ]
    }
   ],
   "source": [
    "nj = (os.getcwd()=='C:\\\\Users\\\\80002036\\\\Dropbox (CEDIA)\\\\Modeles\\\\srd\\\\TEMI\\\\notebooks')\n",
    "\n",
    "if nj :\n",
    "    sys.path.append('C:/Users/80002036/Documents/GitHub/srd')\n",
    "    sys.path.append('C:/Users/80002036/Documents/GitHub/srpp')\n",
    "    print('Utilisateur : NJ')\n",
    "\n",
    "if not nj:\n",
    "    sys.path.append('C:/Users/roger/Documents/GitHub/srd')\n",
    "    sys.path.append('C:/Users/roger/Documents/GitHub/srpp')\n",
    "    print('Utilisateur : Roger')"
   ]
  },
  {
   "cell_type": "markdown",
   "metadata": {},
   "source": [
    "## Importation du module"
   ]
  },
  {
   "cell_type": "code",
   "execution_count": 3,
   "metadata": {
    "ExecuteTime": {
     "end_time": "2020-04-10T17:58:25.909693Z",
     "start_time": "2020-04-10T17:58:25.900130Z"
    }
   },
   "outputs": [],
   "source": [
    "import srd"
   ]
  },
  {
   "cell_type": "markdown",
   "metadata": {},
   "source": [
    "## Intialisation d'un ménage\n",
    "\n",
    "On doit d'abord initialiser un ménage. Ici nous supposerons un couple avec deux membres ayant l'âge de 45 ans et des revenus de travail de 50,000\\$ et 25,000\\$ respectivement. "
   ]
  },
  {
   "cell_type": "code",
   "execution_count": 4,
   "metadata": {
    "ExecuteTime": {
     "end_time": "2020-04-10T17:58:27.177042Z",
     "start_time": "2020-04-10T17:58:27.173582Z"
    }
   },
   "outputs": [],
   "source": [
    "jean = srd.Person(age=45,earn=50e3)\n",
    "pauline = srd.Person(age=45,earn=25e3)"
   ]
  },
  {
   "cell_type": "markdown",
   "metadata": {},
   "source": [
    "On les insère dans un ménage vivant au Québec"
   ]
  },
  {
   "cell_type": "code",
   "execution_count": 5,
   "metadata": {
    "ExecuteTime": {
     "end_time": "2020-04-10T17:58:28.249817Z",
     "start_time": "2020-04-10T17:58:28.246495Z"
    }
   },
   "outputs": [],
   "source": [
    "hh = srd.Hhold(jean,pauline,prov='qc')"
   ]
  },
  {
   "cell_type": "markdown",
   "metadata": {},
   "source": [
    "On peut voir le profil de chacun des membres du ménage en utilisant vars(): "
   ]
  },
  {
   "cell_type": "code",
   "execution_count": 6,
   "metadata": {
    "ExecuteTime": {
     "end_time": "2020-04-10T17:58:29.401205Z",
     "start_time": "2020-04-10T17:58:29.388676Z"
    }
   },
   "outputs": [
    {
     "data": {
      "text/plain": [
       "{'age': 45,\n",
       " 'male': True,\n",
       " 'inc_earn': 50000.0,\n",
       " 'inc_self_earn': 0,\n",
       " 'inc_work_month': [4166.666666666667,\n",
       "  4166.666666666667,\n",
       "  4166.666666666667,\n",
       "  4166.666666666667,\n",
       "  4166.666666666667,\n",
       "  4166.666666666667,\n",
       "  4166.666666666667,\n",
       "  4166.666666666667,\n",
       "  4166.666666666667,\n",
       "  4166.666666666667,\n",
       "  4166.666666666667,\n",
       "  4166.666666666667],\n",
       " 'prev_inc_work': 50000.0,\n",
       " 'inc_rpp': 0,\n",
       " 'inc_cpp': 0,\n",
       " 'net_cap_gains': 0,\n",
       " 'prev_cap_losses': 0,\n",
       " 'cap_gains_exempt': 0,\n",
       " 'inc_othtax': 0,\n",
       " 'inc_othntax': 0,\n",
       " 'div_elig': 0,\n",
       " 'div_other_can': 0,\n",
       " 'inc_rrsp': 0,\n",
       " 'con_rrsp': 0,\n",
       " 'con_non_rrsp': 0,\n",
       " 'con_rpp': 0,\n",
       " 'union_dues': 0,\n",
       " 'donation': 0,\n",
       " 'gift': 0,\n",
       " 'years_can': 27,\n",
       " 'disabled': False,\n",
       " 'widow': False,\n",
       " 'med_exp': 0,\n",
       " 'ndays_chcare_k1': 0,\n",
       " 'ndays_chcare_k2': 0,\n",
       " 'asset': 0,\n",
       " 'months_crb': 0,\n",
       " 'months_ei': 0,\n",
       " 'oas_years_post': 0,\n",
       " 'months_cesb': 0,\n",
       " 'months_cerb': 0,\n",
       " 'pub_drug_insurance': False,\n",
       " 'tax_shield': False,\n",
       " 'student': False,\n",
       " 'essential_worker': False,\n",
       " 'emp_temp_constraints': False,\n",
       " 'hours_month': None,\n",
       " 'dep_senior': False,\n",
       " 'home_support_cost': 0,\n",
       " 'pension_split': 0,\n",
       " 'pension_split_qc': 0,\n",
       " 'pension_deduction': 0,\n",
       " 'pension_deduction_qc': 0,\n",
       " 'inc_oas': 0,\n",
       " 'inc_gis': 0,\n",
       " 'rent': 0,\n",
       " 'prop_tax': 0,\n",
       " 'inc_ei': 0,\n",
       " 'inc_sa': 0,\n",
       " 'allow_couple': 0,\n",
       " 'allow_surv': 0,\n",
       " 'inc_cerb': 0,\n",
       " 'inc_cesb': 0,\n",
       " 'inc_crb': 0,\n",
       " 'inc_iprew': 0,\n",
       " 'covid': None,\n",
       " 'after_tax_inc': None,\n",
       " 'disp_inc': None,\n",
       " 'fed_return': None,\n",
       " 'prov_return': None,\n",
       " 'payroll': None,\n",
       " 'prov_contrib': None,\n",
       " 'max_split': 0.0}"
      ]
     },
     "execution_count": 6,
     "metadata": {},
     "output_type": "execute_result"
    }
   ],
   "source": [
    "vars(jean)"
   ]
  },
  {
   "cell_type": "markdown",
   "metadata": {},
   "source": [
    "## Calcul de l'impôt fédéral\n",
    "\n",
    "On doit d'abord créer un rapport d'impôt pour une année en particulier. "
   ]
  },
  {
   "cell_type": "code",
   "execution_count": 7,
   "metadata": {
    "ExecuteTime": {
     "end_time": "2020-04-10T17:58:31.383284Z",
     "start_time": "2020-04-10T17:58:31.379391Z"
    }
   },
   "outputs": [],
   "source": [
    "from srd import federal\n",
    "fed_form = federal.form(2022)"
   ]
  },
  {
   "cell_type": "markdown",
   "metadata": {},
   "source": [
    "On peut voir les différents paramètres du système fiscal en utilisant encore vars()"
   ]
  },
  {
   "cell_type": "code",
   "execution_count": 8,
   "metadata": {
    "ExecuteTime": {
     "end_time": "2020-04-10T17:58:32.823074Z",
     "start_time": "2020-04-10T17:58:32.816728Z"
    },
    "collapsed": true
   },
   "outputs": [
    {
     "data": {
      "text/plain": [
       "{'div_elig_factor': 1.38,\n",
       " 'div_other_can_factor': 1.15,\n",
       " 'div_elig_cred_rate': 0.150198,\n",
       " 'div_other_can_cred_rate': 0.090313,\n",
       " 'cap_gains_rate': 0.5,\n",
       " 'qpip_deduc_rate': 0.43786,\n",
       " 'basic_amount_poor': 14398.0,\n",
       " 'basic_amount_rich': 12719.0,\n",
       " 'age_cred_amount': 7898.0,\n",
       " 'min_age_cred': 65,\n",
       " 'age_cred_exempt': 39826.0,\n",
       " 'age_cred_claw_rate': 0.15,\n",
       " 'empl_cred_max': 1287.0,\n",
       " 'pension_cred_amount': 2000.0,\n",
       " 'pension_cred_min_age_split': 65,\n",
       " 'disability_cred_amount': 8870.0,\n",
       " 'med_exp_nr_cred_max_age': 18,\n",
       " 'med_exp_nr_cred_max_claw': 2479.0,\n",
       " 'med_exp_nr_cred_rate': 0.03,\n",
       " 'donation_frac_net': 0.75,\n",
       " 'donation_low_cut': 200.0,\n",
       " 'donation_high_cut': 216511.0,\n",
       " 'donation_low_rate': 0.15,\n",
       " 'donation_med_rate': 0.29,\n",
       " 'donation_high_rate': 0.33,\n",
       " 'rate_non_ref_tax_cred': 0.15,\n",
       " 'rate_abatment_qc': 0.165,\n",
       " 'ccb_young': 6997.0,\n",
       " 'ccb_old': 5903.0,\n",
       " 'ccb_max_num_ch': 4,\n",
       " 'ccb_cutoff_1': 32797.0,\n",
       " 'ccb_cutoff_2': 71060.0,\n",
       " 'ccb_rate_1_1ch': 0.07,\n",
       " 'ccb_rate_1_2ch': 0.135,\n",
       " 'ccb_rate_1_3ch': 0.19,\n",
       " 'ccb_rate_1_4ch': 0.23,\n",
       " 'ccb_rate_2_1ch': 0.032,\n",
       " 'ccb_rate_2_2ch': 0.057,\n",
       " 'ccb_rate_2_3ch': 0.08,\n",
       " 'ccb_rate_2_4ch': 0.095,\n",
       " 'med_exp_rate': 0.25,\n",
       " 'med_exp_claw_rate': 0.05,\n",
       " 'med_exp_claw_cutoff': 29129.0,\n",
       " 'med_exp_max': 1316.0,\n",
       " 'med_exp_min_work_inc': 3841.0,\n",
       " 'gst_cred_claw_rate': 0.05,\n",
       " 'gst_cred_claw_cutoff': 39826.0,\n",
       " 'gst_cred_base': 459.0,\n",
       " 'gst_cred_other': 241.5,\n",
       " 'gst_cred_rate': 0.02,\n",
       " 'gst_cred_base_amount': 9919.0,\n",
       " 'gst_covid_single': 400.0,\n",
       " 'gst_covid_couple': 600.0,\n",
       " 'chcare_young': 8000.0,\n",
       " 'chcare_old': 5000.0,\n",
       " 'chcare_rate_inc': 0.66666,\n",
       " 'ei_max_net_inc': 70375.0,\n",
       " 'ei_rate_repay': 0.3,\n",
       " 'ded_qpp_rate': 0.052632,\n",
       " 'ded_qpp_exempt': 3500,\n",
       " 'ded_qpp_claw_rate': 0.03,\n",
       " 'nrtc_spouse_dis': 2357,\n",
       " 'dep_disa_amount': 2985,\n",
       " 'base_single': 2400,\n",
       " 'base_couple': 3600,\n",
       " 'rate_single_dep': 0.2,\n",
       " 'rate': 0.373,\n",
       " 'rate_couple_dep': 0.239,\n",
       " 'max_single': 3277.92,\n",
       " 'max_single_dep': 1757.59,\n",
       " 'max_couple': 5120.45,\n",
       " 'max_couple_dep': 3280.93,\n",
       " 'exempt_single': 12683.06,\n",
       " 'exempt_single_dep': 12700.5,\n",
       " 'exempt_couple': 19457.77,\n",
       " 'exempt_couple_dep': 19508.32,\n",
       " 'exempt_second_earner': 14000,\n",
       " 'claw_rate': 0.2,\n",
       " 'dis_base': 1200,\n",
       " 'dis_max': 738.31,\n",
       " 'dis_rate_single': 0.4,\n",
       " 'dis_rate_couple': 0.2,\n",
       " 'dis_exempt_single': 29072.64,\n",
       " 'dis_exempt_single_dep': 21488.47,\n",
       " 'dis_exempt_couple': 45060.02,\n",
       " 'dis_exempt_couple_dep': 35912.95,\n",
       " 'dis_claw_rate': 0.2,\n",
       " 'dis_couple_claw_rate': 0.1,\n",
       " 'l_brackets': [0.0, 50197.0, 100392.0, 155625.0, 221708.0],\n",
       " 'l_rates': [0.15, 0.205, 0.26, 0.29, 0.33],\n",
       " 'l_constant': [0.0, 7530.0, 17820.0, 32180.0, 51344.0],\n",
       " 'witb_params': {'on': {'base_single': 3000,\n",
       "   'base_couple': 3000,\n",
       "   'rate_single_dep': 0.27,\n",
       "   'rate': 0.27,\n",
       "   'rate_couple_dep': 0.27,\n",
       "   'max_single': 1428.48,\n",
       "   'max_single_dep': 1428.48,\n",
       "   'max_couple': 2460.67,\n",
       "   'max_couple_dep': 2460.67,\n",
       "   'exempt_single': 23494.66,\n",
       "   'exempt_single_dep': 26805.25,\n",
       "   'exempt_couple': 26805.25,\n",
       "   'exempt_couple_dep': 26805.25,\n",
       "   'claw_rate': 0.12,\n",
       "   'dis_base': 1150,\n",
       "   'dis_max': 737.28,\n",
       "   'dis_rate_single': 0.27,\n",
       "   'dis_rate_couple': 0.27,\n",
       "   'dis_exempt_single': 33017.86,\n",
       "   'dis_exempt_single_dep': 43209.73,\n",
       "   'dis_exempt_couple': 43209.73,\n",
       "   'dis_exempt_couple_dep': 43209.73,\n",
       "   'dis_claw_rate': 0.15,\n",
       "   'dis_couple_claw_rate': 0.075},\n",
       "  'qc': {'base_single': 2400,\n",
       "   'base_couple': 3600,\n",
       "   'rate_single_dep': 0.2,\n",
       "   'rate': 0.373,\n",
       "   'rate_couple_dep': 0.239,\n",
       "   'max_single': 3277.92,\n",
       "   'max_single_dep': 1757.59,\n",
       "   'max_couple': 5120.45,\n",
       "   'max_couple_dep': 3280.93,\n",
       "   'exempt_single': 12683.06,\n",
       "   'exempt_single_dep': 12700.5,\n",
       "   'exempt_couple': 19457.77,\n",
       "   'exempt_couple_dep': 19508.32,\n",
       "   'exempt_second_earner': 14000,\n",
       "   'claw_rate': 0.2,\n",
       "   'dis_base': 1200,\n",
       "   'dis_max': 738.31,\n",
       "   'dis_rate_single': 0.4,\n",
       "   'dis_rate_couple': 0.2,\n",
       "   'dis_exempt_single': 29072.64,\n",
       "   'dis_exempt_single_dep': 21488.47,\n",
       "   'dis_exempt_couple': 45060.02,\n",
       "   'dis_exempt_couple_dep': 35912.95,\n",
       "   'dis_claw_rate': 0.2,\n",
       "   'dis_couple_claw_rate': 0.1}}}"
      ]
     },
     "execution_count": 8,
     "metadata": {},
     "output_type": "execute_result"
    }
   ],
   "source": [
    "vars(fed_form)"
   ]
  },
  {
   "cell_type": "markdown",
   "metadata": {},
   "source": [
    "On remplit le rapport d'impôt à l'aide de la fonction file(). "
   ]
  },
  {
   "cell_type": "code",
   "execution_count": 11,
   "metadata": {
    "ExecuteTime": {
     "end_time": "2020-04-10T17:58:34.183405Z",
     "start_time": "2020-04-10T17:58:34.180300Z"
    }
   },
   "outputs": [
    {
     "data": {
      "text/plain": [
       "<srd.actors.Hhold at 0x2ce187dcc40>"
      ]
     },
     "execution_count": 11,
     "metadata": {},
     "output_type": "execute_result"
    }
   ],
   "source": [
    "from srd import tax\n",
    "tax_form = tax(2022)\n",
    "tax_form.compute(hh)"
   ]
  },
  {
   "cell_type": "markdown",
   "metadata": {},
   "source": [
    "On peut visualiser un rapport d'impôt sommaire qui est rattaché à chaque personne"
   ]
  },
  {
   "cell_type": "code",
   "execution_count": 12,
   "metadata": {
    "ExecuteTime": {
     "end_time": "2020-04-10T17:58:35.209837Z",
     "start_time": "2020-04-10T17:58:35.205202Z"
    }
   },
   "outputs": [
    {
     "data": {
      "text/plain": [
       "{'gross_income': 50000.0,\n",
       " 'deductions_gross_inc': 348.75,\n",
       " 'net_income': 49651.25,\n",
       " 'deductions_net_inc': 0.0,\n",
       " 'taxable_income': 49651.25,\n",
       " 'gross_tax_liability': 7447.6875,\n",
       " 'non_refund_credits': 2856.45,\n",
       " 'refund_credits': 757.5541875,\n",
       " 'net_tax_liability': 3833.6833125000003}"
      ]
     },
     "execution_count": 12,
     "metadata": {},
     "output_type": "execute_result"
    }
   ],
   "source": [
    "jean.fed_return"
   ]
  },
  {
   "cell_type": "code",
   "execution_count": 13,
   "metadata": {
    "ExecuteTime": {
     "end_time": "2020-04-10T17:58:35.961874Z",
     "start_time": "2020-04-10T17:58:35.957279Z"
    }
   },
   "outputs": [
    {
     "data": {
      "text/plain": [
       "{'gross_income': 25000.0,\n",
       " 'deductions_gross_inc': 161.25,\n",
       " 'net_income': 24838.75,\n",
       " 'deductions_net_inc': 0.0,\n",
       " 'taxable_income': 24838.75,\n",
       " 'gross_tax_liability': 3725.8125,\n",
       " 'non_refund_credits': 2590.4249999999997,\n",
       " 'refund_credits': 187.33893750000004,\n",
       " 'net_tax_liability': 948.0485625000002}"
      ]
     },
     "execution_count": 13,
     "metadata": {},
     "output_type": "execute_result"
    }
   ],
   "source": [
    "pauline.fed_return"
   ]
  },
  {
   "cell_type": "markdown",
   "metadata": {},
   "source": [
    "## Expérience"
   ]
  },
  {
   "cell_type": "markdown",
   "metadata": {},
   "source": [
    "On peut faire des expériences assez complexe. La première serait de regader l'impôt fédéral payé si on incrémente les revenus de travail"
   ]
  },
  {
   "cell_type": "code",
   "execution_count": 11,
   "metadata": {
    "ExecuteTime": {
     "end_time": "2020-04-10T17:58:38.707871Z",
     "start_time": "2020-04-10T17:58:38.134416Z"
    }
   },
   "outputs": [
    {
     "data": {
      "image/png": "[encoded data removed]",
      "text/plain": [
       "<Figure size 432x288 with 1 Axes>"
      ]
     },
     "metadata": {
      "needs_background": "light"
     },
     "output_type": "display_data"
    }
   ],
   "source": [
    "earns = np.linspace(10e3,200e3,100)\n",
    "atrs = []\n",
    "for earn in earns:\n",
    "    jean.inc_earn = earn\n",
    "    fed_form.file(hh)\n",
    "    atrs.append(jean.fed_return['net_tax_liability']/jean.fed_return['gross_income'])\n",
    "from matplotlib import pyplot as plt\n",
    "plt.figure()\n",
    "plt.plot(earns,atrs)\n",
    "plt.xlabel('niveau de revenu de travail')\n",
    "plt.ylabel('taux moyen imposition effectif')\n",
    "plt.show()"
   ]
  },
  {
   "cell_type": "markdown",
   "metadata": {},
   "source": [
    "On peut ajouter des enfants au ménage à l'aide de la fonction *add_dependent()*."
   ]
  },
  {
   "cell_type": "code",
   "execution_count": 14,
   "metadata": {},
   "outputs": [],
   "source": [
    "emma = srd.Dependent(age=4, child_care=2000, med_exp=500)\n",
    "alex = srd.Dependent(age=14, school=4000)\n",
    "hh.add_dependent(emma,alex)"
   ]
  },
  {
   "cell_type": "markdown",
   "metadata": {},
   "source": [
    "On peut ensuite calculer le nouveau formulaire d’impôt pour les deux adultes de la famille."
   ]
  },
  {
   "cell_type": "code",
   "execution_count": 15,
   "metadata": {},
   "outputs": [
    {
     "data": {
      "text/plain": [
       "{'gross_income': 50000.0,\n",
       " 'deductions_gross_inc': 348.75,\n",
       " 'net_income': 49651.25,\n",
       " 'deductions_net_inc': 0.0,\n",
       " 'taxable_income': 49651.25,\n",
       " 'gross_tax_liability': 7447.6875,\n",
       " 'non_refund_credits': 2856.45,\n",
       " 'refund_credits': 4584.0466875,\n",
       " 'net_tax_liability': 7.190812499999993}"
      ]
     },
     "execution_count": 15,
     "metadata": {},
     "output_type": "execute_result"
    }
   ],
   "source": [
    "tax_form.compute(hh)\n",
    "jean.fed_return"
   ]
  },
  {
   "cell_type": "code",
   "execution_count": 16,
   "metadata": {},
   "outputs": [
    {
     "data": {
      "text/plain": [
       "{'gross_income': 25000.0,\n",
       " 'deductions_gross_inc': 2161.25,\n",
       " 'net_income': 22838.75,\n",
       " 'deductions_net_inc': 0.0,\n",
       " 'taxable_income': 22838.75,\n",
       " 'gross_tax_liability': 3425.8125,\n",
       " 'non_refund_credits': 2590.4249999999997,\n",
       " 'refund_credits': 3964.3314375,\n",
       " 'net_tax_liability': -3128.9439374999997}"
      ]
     },
     "execution_count": 16,
     "metadata": {},
     "output_type": "execute_result"
    }
   ],
   "source": [
    "pauline.fed_return"
   ]
  },
  {
   "cell_type": "markdown",
   "metadata": {},
   "source": [
    "On peut voir les différents attributs du ménage en utilisant encore *vars()*:"
   ]
  },
  {
   "cell_type": "code",
   "execution_count": 17,
   "metadata": {},
   "outputs": [
    {
     "data": {
      "text/plain": [
       "{'sp': [<srd.actors.Person at 0x2ce1bbd19d0>,\n",
       "  <srd.actors.Person at 0x2ce1b369610>],\n",
       " 'couple': True,\n",
       " 'prev_fam_net_inc_prov': None,\n",
       " 'prov': 'qc',\n",
       " 'dep': [<srd.actors.Dependent at 0x2ce1c23f460>,\n",
       "  <srd.actors.Dependent at 0x2ce1c23f0d0>],\n",
       " 'nkids_0_6': 1,\n",
       " 'nkids_7_16': 1,\n",
       " 'nkids_0_17': 2,\n",
       " 'nkids_0_18': 2,\n",
       " 'n_adults_in_hh': 2,\n",
       " 'elig_split': False,\n",
       " 'sa_elig_asset': True,\n",
       " 'nkids_0_5': 1,\n",
       " 'nkids_6_17': 1}"
      ]
     },
     "execution_count": 17,
     "metadata": {},
     "output_type": "execute_result"
    }
   ],
   "source": [
    "vars(hh)"
   ]
  },
  {
   "cell_type": "markdown",
   "metadata": {},
   "source": [
    "On peut faire des expériences assez complexes. Une première consisterait par exemple à regarder l’impôt fédéral payé si on augmente les revenus de travail par petites tranches."
   ]
  },
  {
   "cell_type": "code",
   "execution_count": 18,
   "metadata": {},
   "outputs": [
    {
     "data": {
      "image/png": "[encoded data removed]",
      "text/plain": [
       "<Figure size 432x288 with 1 Axes>"
      ]
     },
     "metadata": {
      "needs_background": "light"
     },
     "output_type": "display_data"
    }
   ],
   "source": [
    "import numpy as np\n",
    "from matplotlib import pyplot as plt\n",
    "\n",
    "earns = np.linspace(10e3,200e3,100)\n",
    "atrs = []\n",
    "for earn in earns:\n",
    "    jean = srd.Person(age=45,earn=earn)\n",
    "    hh = srd.Hhold(jean, prov='qc')\n",
    "    tax_form.compute(hh)\n",
    "    atrs.append(jean.fed_return['net_tax_liability']/jean.fed_return['gross_income'])\n",
    "\n",
    "plt.figure()\n",
    "plt.plot(earns,atrs)\n",
    "plt.xlabel('niveau de revenu de travail')\n",
    "plt.ylabel('taux moyen imposition effectif')\n",
    "plt.show()"
   ]
  },
  {
   "cell_type": "markdown",
   "metadata": {},
   "source": [
    "On peut aussi faire une expérience dans laquelle on change un paramètre du système d’imposition. Supposons par exemple qu’on augmente le montant de base:\n"
   ]
  },
  {
   "cell_type": "code",
   "execution_count": 19,
   "metadata": {},
   "outputs": [
    {
     "data": {
      "image/png": "[encoded data removed]",
      "text/plain": [
       "<Figure size 432x288 with 1 Axes>"
      ]
     },
     "metadata": {
      "needs_background": "light"
     },
     "output_type": "display_data"
    }
   ],
   "source": [
    "base = np.linspace(1.0,1.5,10)\n",
    "atrs = []\n",
    "bases = []\n",
    "jean.inc_earn = 50e3\n",
    "base_amount = tax_form.federal.basic_amount_poor\n",
    "for b in base:\n",
    "    tax_form.federal.basic_amount_poor = base_amount * b\n",
    "    bases.append(tax_form.federal.basic_amount_poor)\n",
    "    tax_form.compute(hh)\n",
    "    atrs.append(jean.fed_return['net_tax_liability']/jean.fed_return['gross_income'])\n",
    "\n",
    "plt.figure()\n",
    "plt.plot(bases,atrs)\n",
    "plt.xlabel('montant de base')\n",
    "plt.ylabel('taux moyen imposition effectif')\n",
    "plt.show()"
   ]
  },
  {
   "cell_type": "markdown",
   "metadata": {},
   "source": [
    "On peut aussi faire une expérience ou on change un paramètre du système d'imposition. Supposons qu'on change le montant de base en l'augmentant"
   ]
  },
  {
   "cell_type": "code",
   "execution_count": 12,
   "metadata": {
    "ExecuteTime": {
     "end_time": "2020-04-10T17:58:43.431826Z",
     "start_time": "2020-04-10T17:58:43.224031Z"
    }
   },
   "outputs": [
    {
     "data": {
      "image/png": "[encoded data removed]",
      "text/plain": [
       "<Figure size 432x288 with 1 Axes>"
      ]
     },
     "metadata": {
      "needs_background": "light"
     },
     "output_type": "display_data"
    }
   ],
   "source": [
    "base = np.linspace(1.0,1.5,10)\n",
    "atrs = []\n",
    "bases = []\n",
    "jean.inc_earn = 50e3\n",
    "base_amount = fed_form.basic_amount\n",
    "for b in base:\n",
    "    fed_form.basic_amount = base_amount*b\n",
    "    bases.append(fed_form.basic_amount)\n",
    "    fed_form.file(hh)\n",
    "    atrs.append(jean.fed_return['net_tax_liability']/jean.fed_return['gross_income'])\n",
    "from matplotlib import pyplot as plt\n",
    "plt.figure()\n",
    "plt.plot(bases,atrs)\n",
    "plt.xlabel('montant de base')\n",
    "plt.ylabel('taux moyen imposition effectif')\n",
    "plt.show()"
   ]
  },
  {
   "cell_type": "code",
   "execution_count": null,
   "metadata": {},
   "outputs": [],
   "source": []
  }
 ],
 "metadata": {
  "kernelspec": {
   "display_name": "Python 3.9.7 ('base')",
   "language": "python",
   "name": "python3"
  },
  "language_info": {
   "codemirror_mode": {
    "name": "ipython",
    "version": 3
   },
   "file_extension": ".py",
   "mimetype": "text/x-python",
   "name": "python",
   "nbconvert_exporter": "python",
   "pygments_lexer": "ipython3",
   "version": "3.9.7"
  },
  "latex_envs": {
   "LaTeX_envs_menu_present": true,
   "autoclose": false,
   "autocomplete": true,
   "bibliofile": "biblio.bib",
   "cite_by": "apalike",
   "current_citInitial": 1,
   "eqLabelWithNumbers": true,
   "eqNumInitial": 1,
   "hotkeys": {
    "equation": "Ctrl-E",
    "itemize": "Ctrl-I"
   },
   "labels_anchors": false,
   "latex_user_defs": false,
   "report_style_numbering": false,
   "user_envs_cfg": false
  },
  "varInspector": {
   "cols": {
    "lenName": 16,
    "lenType": 16,
    "lenVar": 40
   },
   "kernels_config": {
    "python": {
     "delete_cmd_postfix": "",
     "delete_cmd_prefix": "del ",
     "library": "var_list.py",
     "varRefreshCmd": "print(var_dic_list())"
    },
    "r": {
     "delete_cmd_postfix": ") ",
     "delete_cmd_prefix": "rm(",
     "library": "var_list.r",
     "varRefreshCmd": "cat(var_dic_list()) "
    }
   },
   "types_to_exclude": [
    "module",
    "function",
    "builtin_function_or_method",
    "instance",
    "_Feature"
   ],
   "window_display": false
  },
  "vscode": {
   "interpreter": {
    "hash": "9909264b6bdbca3045af8bd3e6a0b6c0c29d38c2a192ba1c83bb2539a765db59"
   }
  }
 },
 "nbformat": 4,
 "nbformat_minor": 4
}
