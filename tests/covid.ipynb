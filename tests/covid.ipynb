{
 "cells": [
  {
   "cell_type": "code",
   "execution_count": 157,
   "metadata": {
    "ExecuteTime": {
     "end_time": "2020-04-10T17:58:25.909693Z",
     "start_time": "2020-04-10T17:58:25.900130Z"
    }
   },
   "outputs": [],
   "source": [
    "import srd\n",
    "from srd import federal, quebec, tax, Person, Hhold, Dependent\n",
    "from srd.federal import covidfed\n",
    "from srd.quebec import covidqc"
   ]
  },
  {
   "cell_type": "code",
   "execution_count": 158,
   "metadata": {
    "ExecuteTime": {
     "end_time": "2020-04-10T17:58:27.177042Z",
     "start_time": "2020-04-10T17:58:27.173582Z"
    }
   },
   "outputs": [],
   "source": [
    "jean = srd.Person(age=45,earn=50e3)\n",
    "pauline = srd.Person(age=45,earn=25e3)"
   ]
  },
  {
   "cell_type": "code",
   "execution_count": 159,
   "metadata": {
    "ExecuteTime": {
     "end_time": "2020-04-10T17:58:28.249817Z",
     "start_time": "2020-04-10T17:58:28.246495Z"
    }
   },
   "outputs": [],
   "source": [
    "hh = srd.Hhold(jean,pauline,prov='qc')"
   ]
  },
  {
   "cell_type": "code",
   "execution_count": 160,
   "metadata": {
    "ExecuteTime": {
     "end_time": "2020-04-10T17:58:31.383284Z",
     "start_time": "2020-04-10T17:58:31.379391Z"
    }
   },
   "outputs": [
    {
     "output_type": "execute_result",
     "data": {
      "text/plain": [
       "{'year': 2020,\n",
       " 'ifed': True,\n",
       " 'iprov': True,\n",
       " 'ipayroll': True,\n",
       " 'ioas': True,\n",
       " 'iass': True,\n",
       " 'policyqc': <srd.quebec.covidqc.policyqc at 0x1bed1310fd0>,\n",
       " 'policyfed': <srd.federal.covidfed.policyfed at 0x1bed2f1ed30>,\n",
       " 'payroll': <srd.payroll.payroll at 0x1beee2cffd0>,\n",
       " 'covidqc': <srd.quebec.covidqc.programs at 0x1beee3603a0>,\n",
       " 'covidfed': <srd.federal.covidfed.programs at 0x1beee360e80>,\n",
       " 'federal': <srd.federal.forms.form_2020 at 0x1beee3609a0>,\n",
       " 'prov': {'qc': <srd.quebec.forms.form_2020 at 0x1beee3608b0>,\n",
       "  'on': <srd.ontario.forms.form_2020 at 0x1beee360670>},\n",
       " 'oas': <srd.oas.programs.program_2020 at 0x1beee360c10>,\n",
       " 'ass': <srd.assistance.programs.program_2020 at 0x1beee360e50>}"
      ]
     },
     "metadata": {},
     "execution_count": 160
    }
   ],
   "source": [
    "fed_form = federal.form(2020, covidfed.policyfed(icerb=False))\n",
    "pro_form = quebec.form(2020, covidqc.policyqc(iiprew=False))\n",
    "tax_form = srd.tax(2020)\n",
    "tax_form.compute(hh)\n",
    "vars(tax_form)"
   ]
  },
  {
   "cell_type": "code",
   "execution_count": 161,
   "metadata": {},
   "outputs": [
    {
     "output_type": "execute_result",
     "data": {
      "text/plain": [
       "{'icerb': False,\n",
       " 'icesb': True,\n",
       " 'icovid_gst': True,\n",
       " 'icovid_ccb': True,\n",
       " 'iei': False}"
      ]
     },
     "metadata": {},
     "execution_count": 161
    }
   ],
   "source": [
    "vars(fed_form.policyfed)\n"
   ]
  },
  {
   "cell_type": "code",
   "execution_count": 162,
   "metadata": {},
   "outputs": [
    {
     "output_type": "execute_result",
     "data": {
      "text/plain": [
       "{'iiprew': False}"
      ]
     },
     "metadata": {},
     "execution_count": 162
    }
   ],
   "source": [
    "vars(pro_form.policyqc)\n"
   ]
  },
  {
   "cell_type": "code",
   "execution_count": 163,
   "metadata": {},
   "outputs": [
    {
     "output_type": "execute_result",
     "data": {
      "text/plain": [
       "{'begin_april': 3,\n",
       " 'cerb_base': 2000.0,\n",
       " 'cerb_min_inc_work': 5000.0,\n",
       " 'cerb_max_earn': 1000.0,\n",
       " 'cesb_base': 1250.0,\n",
       " 'cesb_supp': 750.0,\n",
       " 'cesb_max_earn': 1000.0,\n",
       " 'policy': <srd.federal.covidfed.policyfed at 0x1bed2f1ed30>}"
      ]
     },
     "metadata": {},
     "execution_count": 163
    }
   ],
   "source": [
    "vars(tax_form.covidfed)\n"
   ]
  },
  {
   "cell_type": "code",
   "execution_count": 164,
   "metadata": {},
   "outputs": [
    {
     "output_type": "execute_result",
     "data": {
      "text/plain": [
       "{'begin_april': 3,\n",
       " 'iprew_min_inc_work': 5000.0,\n",
       " 'iprew_max_inc_tot': 28600.0,\n",
       " 'iprew_monthly_amount': 400.0,\n",
       " 'iprew_max_earn': 2500.0,\n",
       " 'iprew_max_months': 4,\n",
       " 'policy': <srd.quebec.covidqc.policyqc at 0x1bed1310fd0>}"
      ]
     },
     "metadata": {},
     "execution_count": 164
    }
   ],
   "source": [
    "vars(tax_form.covidqc)\n"
   ]
  },
  {
   "cell_type": "code",
   "execution_count": 165,
   "metadata": {},
   "outputs": [
    {
     "output_type": "stream",
     "name": "stdout",
     "text": [
      "True\n"
     ]
    }
   ],
   "source": [
    "## test CERB\n",
    "tax_form = tax(2020)\n",
    "p = Person(earn=6000, months_cerb_cesb=2)\n",
    "hh = Hhold(p, prov='qc')\n",
    "tax_form.compute(hh)\n",
    "print(p.inc_cerb==4000)\n"
   ]
  },
  {
   "cell_type": "code",
   "execution_count": 166,
   "metadata": {},
   "outputs": [
    {
     "output_type": "stream",
     "name": "stdout",
     "text": [
      "True\n"
     ]
    }
   ],
   "source": [
    "## test no CERB\n",
    "tax_form = srd.tax(2020)\n",
    "p = srd.Person(earn=[2000]*12, months_cerb_cesb=2)\n",
    "hh = srd.Hhold(p, prov='qc')\n",
    "tax_form.compute(hh)\n",
    "print(p.inc_cerb==0)"
   ]
  },
  {
   "cell_type": "code",
   "execution_count": 167,
   "metadata": {},
   "outputs": [
    {
     "output_type": "stream",
     "name": "stdout",
     "text": [
      "True\nTrue\n"
     ]
    }
   ],
   "source": [
    "## test CESB\n",
    "tax_form = srd.tax(2020)\n",
    "p = srd.Person(earn=6000, months_cerb_cesb=2, student=True)\n",
    "hh = srd.Hhold(p, prov='qc')\n",
    "tax_form.compute(hh)\n",
    "print(p.inc_cerb==0)\n",
    "print(p.inc_cesb==2500)"
   ]
  },
  {
   "cell_type": "code",
   "execution_count": 168,
   "metadata": {},
   "outputs": [
    {
     "output_type": "stream",
     "name": "stdout",
     "text": [
      "True\nTrue\n"
     ]
    }
   ],
   "source": [
    "## test disabled CESB\n",
    "tax_form = tax(2020)\n",
    "p = Person(earn=6000, months_cerb_cesb=2, student=True, disabled=True)\n",
    "hh = Hhold(p, prov='qc')\n",
    "tax_form.compute(hh)\n",
    "print(p.inc_cerb==0)\n",
    "print(p.inc_cesb==4000)\n"
   ]
  },
  {
   "cell_type": "code",
   "execution_count": 169,
   "metadata": {},
   "outputs": [
    {
     "output_type": "stream",
     "name": "stdout",
     "text": [
      "True\n"
     ]
    }
   ],
   "source": [
    "## test no cesb student\n",
    "tax_form = tax(2020)\n",
    "p = Person(earn=13000, months_cerb_cesb=2, student=True)\n",
    "hh = Hhold(p, prov='qc')\n",
    "tax_form.compute(hh)\n",
    "print(p.inc_cesb==0)"
   ]
  },
  {
   "cell_type": "code",
   "execution_count": 170,
   "metadata": {},
   "outputs": [
    {
     "output_type": "stream",
     "name": "stdout",
     "text": [
      "True\n"
     ]
    }
   ],
   "source": [
    "## test supp_dep_ces\n",
    "tax_form = tax(2020)\n",
    "p = Person(months_cerb_cesb=1, student=True)\n",
    "hh = Hhold(p, prov='qc')\n",
    "dep = Dependent(age=12)\n",
    "hh.dep.append(dep)\n",
    "tax_form.compute(hh)\n",
    "print(p.inc_cesb==2000)"
   ]
  },
  {
   "cell_type": "code",
   "execution_count": 171,
   "metadata": {},
   "outputs": [
    {
     "output_type": "stream",
     "name": "stdout",
     "text": [
      "True\nTrue\n"
     ]
    }
   ],
   "source": [
    "## test couple cesb diabled\n",
    "tax_form = tax(2020)\n",
    "p0 = Person(months_cerb_cesb=1, student=True)\n",
    "p1 = Person(months_cerb_cesb=3, student=True, disabled=True)\n",
    "hh = Hhold(p0, p1, prov='qc')\n",
    "tax_form.compute(hh)\n",
    "print(p0.inc_cesb==1250)\n",
    "print(p1.inc_cesb==6000)"
   ]
  },
  {
   "cell_type": "code",
   "execution_count": 172,
   "metadata": {},
   "outputs": [
    {
     "output_type": "stream",
     "name": "stdout",
     "text": [
      "True\nTrue\n"
     ]
    }
   ],
   "source": [
    "## test couple cesb dep\n",
    "tax_form = tax(2020)\n",
    "p0 = Person(months_cerb_cesb=1, student=True)\n",
    "p1 = Person(months_cerb_cesb=2, student=True)\n",
    "hh = Hhold(p0, p1, prov='qc')\n",
    "dep = Dependent(age=12)\n",
    "hh.dep.append(dep)\n",
    "tax_form.compute(hh)\n",
    "print(p0.inc_cesb==1625)\n",
    "print(p1.inc_cesb==3250)"
   ]
  },
  {
   "cell_type": "code",
   "execution_count": 173,
   "metadata": {},
   "outputs": [
    {
     "output_type": "stream",
     "name": "stdout",
     "text": [
      "True\nTrue\n"
     ]
    }
   ],
   "source": [
    "## test couple cesb dep disable\n",
    "tax_form = tax(2020)\n",
    "p0 = Person(months_cerb_cesb=1, student=True, disabled=True)\n",
    "p1 = Person(months_cerb_cesb=2, student=True)\n",
    "hh = Hhold(p0, p1, prov='qc')\n",
    "dep = Dependent(age=12)\n",
    "hh.dep.append(dep)\n",
    "tax_form.compute(hh)\n",
    "print(p0.inc_cesb==2000)\n",
    "print(p1.inc_cesb==4000)"
   ]
  },
  {
   "cell_type": "code",
   "execution_count": 174,
   "metadata": {},
   "outputs": [
    {
     "output_type": "stream",
     "name": "stdout",
     "text": [
      "True\nTrue\n"
     ]
    }
   ],
   "source": [
    "## test iprew\n",
    "tax_form = tax(2020)\n",
    "p = Person(essential_worker=True, earn=6000)\n",
    "hh = Hhold(p, prov='qc')\n",
    "tax_form.compute(hh)\n",
    "print(p.inc_cesb==0)\n",
    "print(p.covid['iprew']==1600)"
   ]
  },
  {
   "cell_type": "code",
   "execution_count": 175,
   "metadata": {},
   "outputs": [
    {
     "output_type": "stream",
     "name": "stdout",
     "text": [
      "True\nTrue\nTrue\nTrue\n"
     ]
    }
   ],
   "source": [
    "## test no iprew\n",
    "tax_form = tax(2020)\n",
    "\n",
    "p = Person(essential_worker=False, earn=6000)\n",
    "hh = Hhold(p, prov='qc')\n",
    "tax_form.compute(hh)\n",
    "print(p.covid['iprew']==0)\n",
    "\n",
    "p = Person(essential_worker=True, earn=4000)\n",
    "hh = Hhold(p, prov='qc')\n",
    "tax_form.compute(hh)\n",
    "print(p.covid['iprew']==0)\n",
    "\n",
    "p = Person(essential_worker=True, earn=6000, othntax=30000)\n",
    "hh = Hhold(p, prov='qc')\n",
    "tax_form.compute(hh)\n",
    "print(p.covid['iprew']==0)\n",
    "\n",
    "p = Person(essential_worker=True, earn=29000)\n",
    "hh = Hhold(p, prov='qc')\n",
    "tax_form.compute(hh)\n",
    "print(p.covid['iprew']==0)"
   ]
  },
  {
   "cell_type": "code",
   "execution_count": 176,
   "metadata": {},
   "outputs": [
    {
     "output_type": "stream",
     "name": "stdout",
     "text": [
      "True\n"
     ]
    }
   ],
   "source": [
    "# test iprew 3 months\n",
    "tax_form = tax(2020)\n",
    "p = Person(essential_worker=True, earn=[2000]*6 + [2600]*6)\n",
    "hh = Hhold(p, prov='qc')\n",
    "tax_form.compute(hh)\n",
    "print(p.covid['iprew']==1200)\n"
   ]
  }
 ],
 "metadata": {
  "kernelspec": {
   "name": "python392jvsc74a57bd04416325f830a230b5345e4698e344f61de9087b042d5a2f888516388da3fdd63",
   "display_name": "Python 3.9.2 64-bit"
  },
  "language_info": {
   "codemirror_mode": {
    "name": "ipython",
    "version": 3
   },
   "file_extension": ".py",
   "mimetype": "text/x-python",
   "name": "python",
   "nbconvert_exporter": "python",
   "pygments_lexer": "ipython3",
   "version": "3.9.2"
  },
  "latex_envs": {
   "LaTeX_envs_menu_present": true,
   "autoclose": false,
   "autocomplete": true,
   "bibliofile": "biblio.bib",
   "cite_by": "apalike",
   "current_citInitial": 1,
   "eqLabelWithNumbers": true,
   "eqNumInitial": 1,
   "hotkeys": {
    "equation": "Ctrl-E",
    "itemize": "Ctrl-I"
   },
   "labels_anchors": false,
   "latex_user_defs": false,
   "report_style_numbering": false,
   "user_envs_cfg": false
  },
  "varInspector": {
   "cols": {
    "lenName": 16,
    "lenType": 16,
    "lenVar": 40
   },
   "kernels_config": {
    "python": {
     "delete_cmd_postfix": "",
     "delete_cmd_prefix": "del ",
     "library": "var_list.py",
     "varRefreshCmd": "print(var_dic_list())"
    },
    "r": {
     "delete_cmd_postfix": ") ",
     "delete_cmd_prefix": "rm(",
     "library": "var_list.r",
     "varRefreshCmd": "cat(var_dic_list()) "
    }
   },
   "types_to_exclude": [
    "module",
    "function",
    "builtin_function_or_method",
    "instance",
    "_Feature"
   ],
   "window_display": false
  },
  "metadata": {
   "interpreter": {
    "hash": "4416325f830a230b5345e4698e344f61de9087b042d5a2f888516388da3fdd63"
   }
  }
 },
 "nbformat": 4,
 "nbformat_minor": 4
}