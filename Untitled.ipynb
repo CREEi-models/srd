{
 "cells": [
  {
   "cell_type": "code",
   "execution_count": 2,
   "metadata": {},
   "outputs": [
    {
     "name": "stdout",
     "output_type": "stream",
     "text": [
      "2016 143995.894035\n",
      "2017 145505.00394999998\n",
      "2018 145799.51815999998\n",
      "2019 146225.992295\n",
      "2020 147143.33916899998\n"
     ]
    }
   ],
   "source": [
    "from srd import tax, incentives, Person, Hhold, Dependent, federal\n",
    "from srd.covid import policy    \n",
    "david = Person(age=43, earn=110000)\n",
    "anne = Person(age=46, earn=110000)\n",
    "jeanne = Dependent(age=9, child_care=1000)\n",
    "hh = Hhold(david, anne, prov='qc')\n",
    "hh.add_dependent(jeanne)\n",
    "for year in range(2016, 2021):\n",
    "    tax_form = tax(year)\n",
    "    tax_form.compute(hh)\n",
    "    print(year, hh.fam_disp_inc)"
   ]
  },
  {
   "cell_type": "code",
   "execution_count": null,
   "metadata": {},
   "outputs": [],
   "source": [
    "from srd import tax, incentives, Person, Hhold, Dependent, federal\n",
    "from srd.covid import policy    \n",
    "jean = Person(age=45, earn=40000)\n",
    "jacques = Person(age=40, earn=50000)\n",
    "jeanne = Dependent(age=4, child_care=10000)\n",
    "joaquim = Dependent(age=8, child_care=8000)\n",
    "hh = Hhold(jean, jacques, prov='on')\n",
    "hh.add_dependent(jeanne, joaquim)\n",
    "for year in range(2016, 2021):\n",
    "    tax_form = tax(year)\n",
    "    tax_form.compute(hh)\n",
    "    print(year, hh.fam_disp_inc)"
   ]
  }
 ],
 "metadata": {
  "kernelspec": {
   "display_name": "Python 3",
   "language": "python",
   "name": "python3"
  },
  "language_info": {
   "codemirror_mode": {
    "name": "ipython",
    "version": 3
   },
   "file_extension": ".py",
   "mimetype": "text/x-python",
   "name": "python",
   "nbconvert_exporter": "python",
   "pygments_lexer": "ipython3",
   "version": "3.7.3"
  }
 },
 "nbformat": 4,
 "nbformat_minor": 2
}
